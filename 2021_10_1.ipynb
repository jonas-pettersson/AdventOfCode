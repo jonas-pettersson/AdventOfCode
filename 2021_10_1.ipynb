{
 "cells": [
  {
   "cell_type": "code",
   "execution_count": 1,
   "id": "f7f1327e-5325-48e4-af32-e8547d8c398e",
   "metadata": {
    "tags": []
   },
   "outputs": [],
   "source": [
    "import pandas as pd\n",
    "import numpy as np\n",
    "from pathlib import Path\n",
    "import math\n",
    "from scipy.ndimage.filters import minimum_filter\n",
    "import matplotlib.pyplot as plt"
   ]
  },
  {
   "cell_type": "code",
   "execution_count": 2,
   "id": "7c647e19-a57f-4b53-ad5c-41f29a2909d5",
   "metadata": {},
   "outputs": [],
   "source": [
    "BASE_DIR = Path('C:/Users/atw10wp4/Jupyter/AdventOfCode/Data')"
   ]
  },
  {
   "cell_type": "code",
   "execution_count": 3,
   "id": "e296c2a0-b5ac-4312-a79c-27c75def68bf",
   "metadata": {},
   "outputs": [],
   "source": [
    "fileName = '2021_10_input.txt'\n",
    "fileNameFullPath = BASE_DIR / fileName"
   ]
  },
  {
   "cell_type": "code",
   "execution_count": 4,
   "id": "dff960d3-8f66-472a-b655-762da081556f",
   "metadata": {},
   "outputs": [],
   "source": [
    "df = pd.read_csv(fileNameFullPath, header=None, dtype='str' )"
   ]
  },
  {
   "cell_type": "code",
   "execution_count": 5,
   "id": "22222b20-0ec4-4883-b0ef-55970ebefa2d",
   "metadata": {},
   "outputs": [],
   "source": [
    "lefties = ['(', '[', '{', '<']\n",
    "righties = [')', ']', '}', '>']\n",
    "\n",
    "dict = {}\n",
    "for l, r in zip(lefties, righties):\n",
    "    dict[r] = l\n",
    "    \n",
    "score_dict = {\n",
    "    ')': 3,\n",
    "    ']': 57,\n",
    "    '}': 1197,\n",
    "    '>': 25137}"
   ]
  },
  {
   "cell_type": "code",
   "execution_count": 6,
   "id": "15c6e16b-428e-4b7a-b562-23e522e16609",
   "metadata": {},
   "outputs": [],
   "source": [
    "wrongies = []\n",
    "for line in df[0].values:\n",
    "    stack = []\n",
    "    found = False\n",
    "    for i, c in enumerate(line):\n",
    "        if not found:\n",
    "            if c in lefties:\n",
    "                stack.append(c)\n",
    "            else:\n",
    "                d = stack.pop()\n",
    "                if dict[c] != d:\n",
    "                    wrongies.append(c)\n",
    "                    found = True"
   ]
  },
  {
   "cell_type": "code",
   "execution_count": 7,
   "id": "ee913fa0-4617-41a7-93ba-786edf1f1f25",
   "metadata": {},
   "outputs": [
    {
     "data": {
      "text/plain": [
       "442131"
      ]
     },
     "execution_count": 7,
     "metadata": {},
     "output_type": "execute_result"
    }
   ],
   "source": [
    "sum([score_dict[c] for c in wrongies])"
   ]
  },
  {
   "cell_type": "code",
   "execution_count": null,
   "id": "bf495382-1385-4d4a-b7ab-df4d3598ca34",
   "metadata": {},
   "outputs": [],
   "source": []
  }
 ],
 "metadata": {
  "kernelspec": {
   "display_name": "Python 3 (ipykernel)",
   "language": "python",
   "name": "python3"
  },
  "language_info": {
   "codemirror_mode": {
    "name": "ipython",
    "version": 3
   },
   "file_extension": ".py",
   "mimetype": "text/x-python",
   "name": "python",
   "nbconvert_exporter": "python",
   "pygments_lexer": "ipython3",
   "version": "3.8.12"
  }
 },
 "nbformat": 4,
 "nbformat_minor": 5
}
