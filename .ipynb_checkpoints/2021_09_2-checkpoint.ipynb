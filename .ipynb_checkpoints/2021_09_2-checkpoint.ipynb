{
 "cells": [
  {
   "cell_type": "code",
   "execution_count": 1,
   "id": "f7f1327e-5325-48e4-af32-e8547d8c398e",
   "metadata": {
    "tags": []
   },
   "outputs": [],
   "source": [
    "import pandas as pd\n",
    "import numpy as np\n",
    "from pathlib import Path\n",
    "import math\n",
    "from scipy.ndimage.filters import minimum_filter\n",
    "import matplotlib.pyplot as plt"
   ]
  },
  {
   "cell_type": "code",
   "execution_count": 2,
   "id": "7c647e19-a57f-4b53-ad5c-41f29a2909d5",
   "metadata": {},
   "outputs": [],
   "source": [
    "BASE_DIR = Path('C:/Users/atw10wp4/Jupyter/AdventOfCode/Data')"
   ]
  },
  {
   "cell_type": "code",
   "execution_count": 3,
   "id": "e296c2a0-b5ac-4312-a79c-27c75def68bf",
   "metadata": {},
   "outputs": [],
   "source": [
    "fileName = '2021_09_input.txt'\n",
    "fileNameFullPath = BASE_DIR / fileName"
   ]
  },
  {
   "cell_type": "code",
   "execution_count": 4,
   "id": "dff960d3-8f66-472a-b655-762da081556f",
   "metadata": {},
   "outputs": [],
   "source": [
    "df = pd.read_csv(fileNameFullPath, header=None, dtype='str' )"
   ]
  },
  {
   "cell_type": "code",
   "execution_count": 5,
   "id": "e7991bc1-f3b6-402c-ae85-6a4ec7d8380b",
   "metadata": {},
   "outputs": [],
   "source": [
    "df = df[0].str.split(pat='', expand=True)"
   ]
  },
  {
   "cell_type": "code",
   "execution_count": 6,
   "id": "1318b696-92aa-4769-a8c4-29cd40d46fac",
   "metadata": {},
   "outputs": [],
   "source": [
    "df[0]='10'\n",
    "df[df.shape[1]-1]='10'\n",
    "\n",
    "df.loc[-1] = np.full(df.shape[1], '10')\n",
    "df.index = df.index + 1\n",
    "df = df.sort_index()\n",
    "\n",
    "df = df.append(pd.Series(np.full(df.shape[1], '10')), ignore_index=True)"
   ]
  },
  {
   "cell_type": "code",
   "execution_count": 7,
   "id": "19db1fb2-79c3-48d2-a921-f0056f307c4d",
   "metadata": {},
   "outputs": [],
   "source": [
    "df = df.astype(int)"
   ]
  },
  {
   "cell_type": "code",
   "execution_count": 8,
   "id": "7686e056-8f2b-42de-9fef-7e90ef585003",
   "metadata": {},
   "outputs": [],
   "source": [
    "def local_minima(array2d):\n",
    "    return ((array2d < np.roll(array2d,  1, 0)) &\n",
    "            (array2d < np.roll(array2d, -1, 0)) &\n",
    "            (array2d < np.roll(array2d,  1, 1)) &\n",
    "            (array2d < np.roll(array2d, -1, 1)))"
   ]
  },
  {
   "cell_type": "code",
   "execution_count": 9,
   "id": "715a4721-3e9f-454c-9270-3114913bdb0f",
   "metadata": {},
   "outputs": [
    {
     "data": {
      "text/plain": [
       "508.0"
      ]
     },
     "execution_count": 9,
     "metadata": {},
     "output_type": "execute_result"
    }
   ],
   "source": [
    "minima = local_minima(df)\n",
    "(df[minima] + 1).to_numpy(na_value=0).sum()"
   ]
  },
  {
   "cell_type": "code",
   "execution_count": 10,
   "id": "a8ea6151-a882-408c-9ecb-b5543cb4cb7a",
   "metadata": {},
   "outputs": [],
   "source": [
    "# df.style.background_gradient(cmap='YlOrRd')"
   ]
  },
  {
   "cell_type": "code",
   "execution_count": 11,
   "id": "acbc638e-ba77-4c29-9439-67211e722961",
   "metadata": {},
   "outputs": [
    {
     "data": {
      "text/plain": [
       "209"
      ]
     },
     "execution_count": 11,
     "metadata": {},
     "output_type": "execute_result"
    }
   ],
   "source": [
    "minima.values.sum()"
   ]
  },
  {
   "cell_type": "code",
   "execution_count": 12,
   "id": "edc09332-3703-494d-8d08-da8a1d3cd480",
   "metadata": {},
   "outputs": [],
   "source": [
    "cluster_df = df.copy()"
   ]
  },
  {
   "cell_type": "code",
   "execution_count": 13,
   "id": "280b36e4-6903-477e-b4b1-fa534c7f4f0b",
   "metadata": {},
   "outputs": [],
   "source": [
    "# mark peak points\n",
    "cluster_df[cluster_df >= 9] = -1"
   ]
  },
  {
   "cell_type": "code",
   "execution_count": 14,
   "id": "89686a77-e678-4651-a45c-7ee6ae0c9226",
   "metadata": {},
   "outputs": [],
   "source": [
    "# mark all but minimums and maximums\n",
    "nor_minima_nor_maxima = minima + (cluster_df == -1)\n",
    "cluster_df[~nor_minima_nor_maxima] = 0"
   ]
  },
  {
   "cell_type": "code",
   "execution_count": 15,
   "id": "dacea739-2f49-4158-a257-0e6d243b03e2",
   "metadata": {},
   "outputs": [],
   "source": [
    "def get_zipped_coordinates(df):\n",
    "    return zip(list(np.where(df)[0]), \n",
    "               list(np.where(df)[1]))"
   ]
  },
  {
   "cell_type": "code",
   "execution_count": 16,
   "id": "bc3368b9-a2c5-4b92-89cf-3a06612edba9",
   "metadata": {},
   "outputs": [],
   "source": [
    "# each minimum gets an indicator\n",
    "zipped_coordinates_of_minima = get_zipped_coordinates(minima)\n",
    "indicator = 0 # 0 is not used\n",
    "for x, y in zipped_coordinates_of_minima:\n",
    "    indicator += 1\n",
    "    cluster_df.values[x][y] = indicator"
   ]
  },
  {
   "cell_type": "code",
   "execution_count": 17,
   "id": "622ee2fa-1cd1-4a72-947b-96363a768761",
   "metadata": {
    "tags": []
   },
   "outputs": [],
   "source": [
    "# fill up clusters around minimas\n",
    "while (cluster_df == 0).values.sum() > 0:\n",
    "    zero_valued_coordinates = get_zipped_coordinates(cluster_df == 0)\n",
    "    for r, c in zero_valued_coordinates:\n",
    "        if cluster_df[c - 1][r] > 0:\n",
    "            cluster_df.values[r][c] = cluster_df[c - 1][r]\n",
    "        elif cluster_df[c + 1][r] > 0:\n",
    "            cluster_df.values[r][c] = cluster_df[c + 1][r]\n",
    "        elif cluster_df[c][r - 1] > 0:\n",
    "            cluster_df.values[r][c] = cluster_df[c][r - 1]\n",
    "        elif cluster_df[c][r + 1] > 0:\n",
    "            cluster_df.values[r][c] = cluster_df[c][r + 1]\n",
    "        # print(r, c, cluster_df[c][r])"
   ]
  },
  {
   "cell_type": "code",
   "execution_count": 18,
   "id": "b9acfea1-af14-4643-b258-53a94573fb0c",
   "metadata": {},
   "outputs": [],
   "source": [
    "cluster_sizes = []\n",
    "for indicator in range(1, cluster_df.values.max()+1):\n",
    "    cluster_size = (cluster_df == indicator).values.sum()\n",
    "    cluster_sizes.append((indicator, cluster_size))"
   ]
  },
  {
   "cell_type": "code",
   "execution_count": 19,
   "id": "5c38a416-17b0-4f59-88da-1ffa1df4c787",
   "metadata": {},
   "outputs": [],
   "source": [
    "sizes_df = pd.DataFrame(cluster_sizes, columns=['indicator', 'size'])\n",
    "sizes_df = sizes_df.sort_values(by=['size'], ascending=False)"
   ]
  },
  {
   "cell_type": "code",
   "execution_count": 20,
   "id": "1bb3dbf6-abe8-4d54-9a23-0e7309b933b6",
   "metadata": {},
   "outputs": [
    {
     "data": {
      "text/plain": [
       "1564640"
      ]
     },
     "execution_count": 20,
     "metadata": {},
     "output_type": "execute_result"
    }
   ],
   "source": [
    "np.prod(sizes_df.iloc[:3]['size'].values)"
   ]
  }
 ],
 "metadata": {
  "kernelspec": {
   "display_name": "Python 3 (ipykernel)",
   "language": "python",
   "name": "python3"
  },
  "language_info": {
   "codemirror_mode": {
    "name": "ipython",
    "version": 3
   },
   "file_extension": ".py",
   "mimetype": "text/x-python",
   "name": "python",
   "nbconvert_exporter": "python",
   "pygments_lexer": "ipython3",
   "version": "3.8.12"
  }
 },
 "nbformat": 4,
 "nbformat_minor": 5
}
