{
 "cells": [
  {
   "cell_type": "code",
   "execution_count": 1,
   "id": "f7f1327e-5325-48e4-af32-e8547d8c398e",
   "metadata": {},
   "outputs": [],
   "source": [
    "import pandas as pd\n",
    "import numpy as np\n",
    "from pathlib import Path"
   ]
  },
  {
   "cell_type": "code",
   "execution_count": 2,
   "id": "7c647e19-a57f-4b53-ad5c-41f29a2909d5",
   "metadata": {},
   "outputs": [],
   "source": [
    "BASE_DIR = Path('C:/Users/atw10wp4/Jupyter/AdventOfCode/Data')"
   ]
  },
  {
   "cell_type": "code",
   "execution_count": 33,
   "id": "e296c2a0-b5ac-4312-a79c-27c75def68bf",
   "metadata": {},
   "outputs": [],
   "source": [
    "fileName = '2021_04_input_test.txt'\n",
    "fileNameFullPath = BASE_DIR / fileName"
   ]
  },
  {
   "cell_type": "code",
   "execution_count": 53,
   "id": "dff960d3-8f66-472a-b655-762da081556f",
   "metadata": {},
   "outputs": [],
   "source": [
    "df = pd.read_csv(fileNameFullPath, header=None, names=['Boards'], skiprows=2)\n",
    "draw_list = pd.read_csv(fileNameFullPath, header=None, nrows=1).iloc[0]"
   ]
  },
  {
   "cell_type": "code",
   "execution_count": 54,
   "id": "22a58f5d-bead-4634-a6ae-1f08a835b142",
   "metadata": {},
   "outputs": [
    {
     "data": {
      "text/plain": [
       "0      7\n",
       "1      4\n",
       "2      9\n",
       "3      5\n",
       "4     11\n",
       "5     17\n",
       "6     23\n",
       "7      2\n",
       "8      0\n",
       "9     14\n",
       "10    21\n",
       "11    24\n",
       "12    10\n",
       "13    16\n",
       "14    13\n",
       "15     6\n",
       "16    15\n",
       "17    25\n",
       "18    12\n",
       "19    22\n",
       "20    18\n",
       "21    20\n",
       "22     8\n",
       "23    19\n",
       "24     3\n",
       "25    26\n",
       "26     1\n",
       "Name: 0, dtype: int64"
      ]
     },
     "execution_count": 54,
     "metadata": {},
     "output_type": "execute_result"
    }
   ],
   "source": [
    "draw_list"
   ]
  },
  {
   "cell_type": "code",
   "execution_count": 55,
   "id": "39dbfa21-4b0d-49bc-bc92-647ea3fcd80b",
   "metadata": {},
   "outputs": [],
   "source": [
    "df = df['Boards'].str.extract('(.{3}|.{2})' * 5)"
   ]
  },
  {
   "cell_type": "code",
   "execution_count": 58,
   "id": "04caf936-dce1-477a-a6b2-dfff165979a3",
   "metadata": {},
   "outputs": [],
   "source": [
    "df = df.apply(pd.to_numeric, errors='ignore')"
   ]
  },
  {
   "cell_type": "code",
   "execution_count": 92,
   "id": "87e4bf2e-0084-458a-9a0e-bba96cd59478",
   "metadata": {},
   "outputs": [
    {
     "data": {
      "text/plain": [
       "[    0   1   2   3   4\n",
       " 0  22  13  17  11   0\n",
       " 1   8   2  23   4  24\n",
       " 2  21   9  14  16   7\n",
       " 3   6  10   3  18   5\n",
       " 4   1  12  20  15  19,\n",
       "     0   1   2   3   4\n",
       " 5   3  15   0   2  22\n",
       " 6   9  18  13  17   5\n",
       " 7  19   8   7  25  23\n",
       " 8  20  11  10  24   4\n",
       " 9  14  21  16  12   6,\n",
       "      0   1   2   3   4\n",
       " 10  14  21  17  24   4\n",
       " 11  10  16  15   9  19\n",
       " 12  18   8  23  26  20\n",
       " 13  22  11  13   6   5\n",
       " 14   2   0  12   3   7]"
      ]
     },
     "execution_count": 92,
     "metadata": {},
     "output_type": "execute_result"
    }
   ],
   "source": [
    "boards = np.split(df, df.shape[0]/5)\n",
    "boards"
   ]
  },
  {
   "cell_type": "code",
   "execution_count": 90,
   "id": "a055ae04-68b2-4ff6-8d25-adf9e8f317b4",
   "metadata": {},
   "outputs": [
    {
     "data": {
      "text/plain": [
       "[       0      1      2      3      4\n",
       " 0  False  False  False  False  False\n",
       " 1  False  False  False  False  False\n",
       " 2  False  False  False  False  False\n",
       " 3  False  False  False  False  False\n",
       " 4  False  False  False  False  False,\n",
       "        0      1      2      3      4\n",
       " 5  False  False  False  False  False\n",
       " 6  False  False  False  False  False\n",
       " 7  False  False  False  False  False\n",
       " 8  False  False  False  False  False\n",
       " 9  False  False  False  False  False,\n",
       "         0      1      2      3      4\n",
       " 10  False  False  False  False  False\n",
       " 11  False  False  False  False  False\n",
       " 12  False  False  False  False  False\n",
       " 13  False  False  False  False  False\n",
       " 14  False  False  False  False  False]"
      ]
     },
     "execution_count": 90,
     "metadata": {},
     "output_type": "execute_result"
    }
   ],
   "source": [
    "df_bingo = pd.DataFrame(np.full(df.shape, False))\n",
    "df_bingo.index = df.index\n",
    "df_bingo.columns = df.columns\n",
    "bingos = np.split(df_bingo, df_bingo.shape[0]/5)\n",
    "bingos"
   ]
  },
  {
   "cell_type": "code",
   "execution_count": 73,
   "id": "872d4926-a41b-4fd0-ac13-b367c9b4f570",
   "metadata": {},
   "outputs": [],
   "source": [
    "for i in draw_list:\n",
    "    for board, bingo in zip(boards, bingos):\n",
    "        bingo += (board == i)\n",
    "    if i > 15:\n",
    "        break"
   ]
  },
  {
   "cell_type": "code",
   "execution_count": 74,
   "id": "ad8a33f1-9edc-4c15-9cb2-9c1d5392f926",
   "metadata": {},
   "outputs": [
    {
     "data": {
      "text/html": [
       "<div>\n",
       "<style scoped>\n",
       "    .dataframe tbody tr th:only-of-type {\n",
       "        vertical-align: middle;\n",
       "    }\n",
       "\n",
       "    .dataframe tbody tr th {\n",
       "        vertical-align: top;\n",
       "    }\n",
       "\n",
       "    .dataframe thead th {\n",
       "        text-align: right;\n",
       "    }\n",
       "</style>\n",
       "<table border=\"1\" class=\"dataframe\">\n",
       "  <thead>\n",
       "    <tr style=\"text-align: right;\">\n",
       "      <th></th>\n",
       "      <th>0</th>\n",
       "      <th>1</th>\n",
       "      <th>2</th>\n",
       "      <th>3</th>\n",
       "      <th>4</th>\n",
       "    </tr>\n",
       "  </thead>\n",
       "  <tbody>\n",
       "    <tr>\n",
       "      <th>0</th>\n",
       "      <td>False</td>\n",
       "      <td>False</td>\n",
       "      <td>True</td>\n",
       "      <td>True</td>\n",
       "      <td>False</td>\n",
       "    </tr>\n",
       "    <tr>\n",
       "      <th>1</th>\n",
       "      <td>False</td>\n",
       "      <td>False</td>\n",
       "      <td>False</td>\n",
       "      <td>True</td>\n",
       "      <td>False</td>\n",
       "    </tr>\n",
       "    <tr>\n",
       "      <th>2</th>\n",
       "      <td>False</td>\n",
       "      <td>True</td>\n",
       "      <td>False</td>\n",
       "      <td>False</td>\n",
       "      <td>True</td>\n",
       "    </tr>\n",
       "    <tr>\n",
       "      <th>3</th>\n",
       "      <td>False</td>\n",
       "      <td>False</td>\n",
       "      <td>False</td>\n",
       "      <td>False</td>\n",
       "      <td>True</td>\n",
       "    </tr>\n",
       "    <tr>\n",
       "      <th>4</th>\n",
       "      <td>False</td>\n",
       "      <td>False</td>\n",
       "      <td>False</td>\n",
       "      <td>False</td>\n",
       "      <td>False</td>\n",
       "    </tr>\n",
       "    <tr>\n",
       "      <th>5</th>\n",
       "      <td>False</td>\n",
       "      <td>False</td>\n",
       "      <td>False</td>\n",
       "      <td>False</td>\n",
       "      <td>False</td>\n",
       "    </tr>\n",
       "    <tr>\n",
       "      <th>6</th>\n",
       "      <td>True</td>\n",
       "      <td>False</td>\n",
       "      <td>False</td>\n",
       "      <td>True</td>\n",
       "      <td>True</td>\n",
       "    </tr>\n",
       "    <tr>\n",
       "      <th>7</th>\n",
       "      <td>False</td>\n",
       "      <td>False</td>\n",
       "      <td>True</td>\n",
       "      <td>False</td>\n",
       "      <td>False</td>\n",
       "    </tr>\n",
       "    <tr>\n",
       "      <th>8</th>\n",
       "      <td>False</td>\n",
       "      <td>True</td>\n",
       "      <td>False</td>\n",
       "      <td>False</td>\n",
       "      <td>True</td>\n",
       "    </tr>\n",
       "    <tr>\n",
       "      <th>9</th>\n",
       "      <td>False</td>\n",
       "      <td>False</td>\n",
       "      <td>False</td>\n",
       "      <td>False</td>\n",
       "      <td>False</td>\n",
       "    </tr>\n",
       "    <tr>\n",
       "      <th>10</th>\n",
       "      <td>False</td>\n",
       "      <td>False</td>\n",
       "      <td>True</td>\n",
       "      <td>False</td>\n",
       "      <td>True</td>\n",
       "    </tr>\n",
       "    <tr>\n",
       "      <th>11</th>\n",
       "      <td>False</td>\n",
       "      <td>False</td>\n",
       "      <td>False</td>\n",
       "      <td>True</td>\n",
       "      <td>False</td>\n",
       "    </tr>\n",
       "    <tr>\n",
       "      <th>12</th>\n",
       "      <td>False</td>\n",
       "      <td>False</td>\n",
       "      <td>False</td>\n",
       "      <td>False</td>\n",
       "      <td>False</td>\n",
       "    </tr>\n",
       "    <tr>\n",
       "      <th>13</th>\n",
       "      <td>False</td>\n",
       "      <td>True</td>\n",
       "      <td>False</td>\n",
       "      <td>False</td>\n",
       "      <td>True</td>\n",
       "    </tr>\n",
       "    <tr>\n",
       "      <th>14</th>\n",
       "      <td>False</td>\n",
       "      <td>False</td>\n",
       "      <td>False</td>\n",
       "      <td>False</td>\n",
       "      <td>True</td>\n",
       "    </tr>\n",
       "  </tbody>\n",
       "</table>\n",
       "</div>"
      ],
      "text/plain": [
       "        0      1      2      3      4\n",
       "0   False  False   True   True  False\n",
       "1   False  False  False   True  False\n",
       "2   False   True  False  False   True\n",
       "3   False  False  False  False   True\n",
       "4   False  False  False  False  False\n",
       "5   False  False  False  False  False\n",
       "6    True  False  False   True   True\n",
       "7   False  False   True  False  False\n",
       "8   False   True  False  False   True\n",
       "9   False  False  False  False  False\n",
       "10  False  False   True  False   True\n",
       "11  False  False  False   True  False\n",
       "12  False  False  False  False  False\n",
       "13  False   True  False  False   True\n",
       "14  False  False  False  False   True"
      ]
     },
     "execution_count": 74,
     "metadata": {},
     "output_type": "execute_result"
    }
   ],
   "source": [
    "df_bingo"
   ]
  },
  {
   "cell_type": "code",
   "execution_count": 89,
   "id": "d596f4cc-f056-45f9-a904-6b4bb1f01327",
   "metadata": {},
   "outputs": [
    {
     "name": "stdout",
     "output_type": "stream",
     "text": [
      "       0      1      2      3      4\n",
      "0  False  False   True   True  False\n",
      "1  False  False  False   True  False\n",
      "2  False   True  False  False   True\n",
      "3  False  False  False  False   True\n",
      "4  False  False  False  False  False\n",
      "asdasd\n",
      "       0      1      2      3      4\n",
      "5  False  False  False  False  False\n",
      "6   True  False  False   True   True\n",
      "7  False  False   True  False  False\n",
      "8  False   True  False  False   True\n",
      "9  False  False  False  False  False\n",
      "asdasd\n",
      "        0      1      2      3      4\n",
      "10  False  False   True  False   True\n",
      "11  False  False  False   True  False\n",
      "12  False  False  False  False  False\n",
      "13  False   True  False  False   True\n",
      "14  False  False  False  False   True\n",
      "asdasd\n"
     ]
    }
   ],
   "source": [
    "bingo = 0\n",
    "for x in np.split(df_bingo, df_bingo.shape[0]/5):\n",
    "    \n",
    "    "
   ]
  },
  {
   "cell_type": "code",
   "execution_count": 81,
   "id": "48d8adf0-1359-48d8-b0cf-8db853e8ed9c",
   "metadata": {},
   "outputs": [
    {
     "data": {
      "text/plain": [
       "15"
      ]
     },
     "execution_count": 81,
     "metadata": {},
     "output_type": "execute_result"
    }
   ],
   "source": [
    "df_bingo.shape[0]"
   ]
  },
  {
   "cell_type": "code",
   "execution_count": null,
   "id": "31b740e3-8ade-4468-892e-0e3e338a0aad",
   "metadata": {},
   "outputs": [],
   "source": []
  }
 ],
 "metadata": {
  "kernelspec": {
   "display_name": "Python 3 (ipykernel)",
   "language": "python",
   "name": "python3"
  },
  "language_info": {
   "codemirror_mode": {
    "name": "ipython",
    "version": 3
   },
   "file_extension": ".py",
   "mimetype": "text/x-python",
   "name": "python",
   "nbconvert_exporter": "python",
   "pygments_lexer": "ipython3",
   "version": "3.8.12"
  }
 },
 "nbformat": 4,
 "nbformat_minor": 5
}
