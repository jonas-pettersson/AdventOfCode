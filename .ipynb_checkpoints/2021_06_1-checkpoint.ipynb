{
 "cells": [
  {
   "cell_type": "code",
   "execution_count": 1,
   "id": "f7f1327e-5325-48e4-af32-e8547d8c398e",
   "metadata": {
    "tags": []
   },
   "outputs": [],
   "source": [
    "import pandas as pd\n",
    "import numpy as np\n",
    "from pathlib import Path"
   ]
  },
  {
   "cell_type": "code",
   "execution_count": 2,
   "id": "7c647e19-a57f-4b53-ad5c-41f29a2909d5",
   "metadata": {},
   "outputs": [],
   "source": [
    "BASE_DIR = Path('C:/Users/atw10wp4/Jupyter/AdventOfCode/Data')"
   ]
  },
  {
   "cell_type": "code",
   "execution_count": 3,
   "id": "e296c2a0-b5ac-4312-a79c-27c75def68bf",
   "metadata": {},
   "outputs": [],
   "source": [
    "fileName = '2021_06_input_test.txt'\n",
    "fileNameFullPath = BASE_DIR / fileName"
   ]
  },
  {
   "cell_type": "code",
   "execution_count": 4,
   "id": "dff960d3-8f66-472a-b655-762da081556f",
   "metadata": {},
   "outputs": [],
   "source": [
    "df = pd.read_csv(fileNameFullPath, header=None, sep=',', )"
   ]
  },
  {
   "cell_type": "code",
   "execution_count": 5,
   "id": "04db8cf8-0c66-4dc8-8364-2f949412c2b1",
   "metadata": {},
   "outputs": [],
   "source": [
    "number_of_days = 80"
   ]
  },
  {
   "cell_type": "code",
   "execution_count": 6,
   "id": "6f0e4def-d958-4175-a13c-c06ef403174e",
   "metadata": {},
   "outputs": [
    {
     "data": {
      "text/plain": [
       "5"
      ]
     },
     "execution_count": 6,
     "metadata": {},
     "output_type": "execute_result"
    }
   ],
   "source": [
    "fish_list = list(df.iloc[0])\n",
    "len(fish_list)"
   ]
  },
  {
   "cell_type": "code",
   "execution_count": 7,
   "id": "f5f269bd-8d3c-480b-94df-720412e32158",
   "metadata": {},
   "outputs": [],
   "source": [
    "for d in range (0, number_of_days):\n",
    "    new_fish = []\n",
    "    for i in range(0, len(fish_list)):\n",
    "        if fish_list[i] == 0:\n",
    "            fish_list[i] = 6\n",
    "            new_fish.append(8)\n",
    "        else:\n",
    "            fish_list[i]-=1\n",
    "    fish_list = fish_list + new_fish"
   ]
  },
  {
   "cell_type": "code",
   "execution_count": 8,
   "id": "9b13e559-e6b0-4e65-91c8-578fa0cf1ed1",
   "metadata": {},
   "outputs": [
    {
     "data": {
      "text/plain": [
       "5934"
      ]
     },
     "execution_count": 8,
     "metadata": {},
     "output_type": "execute_result"
    }
   ],
   "source": [
    "len(fish_list)"
   ]
  },
  {
   "cell_type": "code",
   "execution_count": null,
   "id": "4a793417-a83d-4008-8e6a-4948de031753",
   "metadata": {},
   "outputs": [],
   "source": []
  }
 ],
 "metadata": {
  "kernelspec": {
   "display_name": "Python 3 (ipykernel)",
   "language": "python",
   "name": "python3"
  },
  "language_info": {
   "codemirror_mode": {
    "name": "ipython",
    "version": 3
   },
   "file_extension": ".py",
   "mimetype": "text/x-python",
   "name": "python",
   "nbconvert_exporter": "python",
   "pygments_lexer": "ipython3",
   "version": "3.8.12"
  }
 },
 "nbformat": 4,
 "nbformat_minor": 5
}
