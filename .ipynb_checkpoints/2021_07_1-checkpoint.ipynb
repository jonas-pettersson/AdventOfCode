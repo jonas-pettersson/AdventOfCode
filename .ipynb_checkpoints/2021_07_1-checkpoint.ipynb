{
 "cells": [
  {
   "cell_type": "code",
   "execution_count": 1,
   "id": "f7f1327e-5325-48e4-af32-e8547d8c398e",
   "metadata": {
    "tags": []
   },
   "outputs": [],
   "source": [
    "import pandas as pd\n",
    "import numpy as np\n",
    "from pathlib import Path"
   ]
  },
  {
   "cell_type": "code",
   "execution_count": 2,
   "id": "7c647e19-a57f-4b53-ad5c-41f29a2909d5",
   "metadata": {},
   "outputs": [],
   "source": [
    "BASE_DIR = Path('C:/Users/atw10wp4/Jupyter/AdventOfCode/Data')"
   ]
  },
  {
   "cell_type": "code",
   "execution_count": 3,
   "id": "e296c2a0-b5ac-4312-a79c-27c75def68bf",
   "metadata": {},
   "outputs": [],
   "source": [
    "fileName = '2021_06_input.txt'\n",
    "fileNameFullPath = BASE_DIR / fileName"
   ]
  },
  {
   "cell_type": "code",
   "execution_count": 4,
   "id": "dff960d3-8f66-472a-b655-762da081556f",
   "metadata": {},
   "outputs": [],
   "source": [
    "df = pd.read_csv(fileNameFullPath, header=None, sep=',', )"
   ]
  },
  {
   "cell_type": "code",
   "execution_count": 5,
   "id": "04db8cf8-0c66-4dc8-8364-2f949412c2b1",
   "metadata": {},
   "outputs": [],
   "source": [
    "number_of_days = 256"
   ]
  },
  {
   "cell_type": "code",
   "execution_count": 6,
   "id": "861a97f6-3d60-4ad3-9764-3f4c22eb4524",
   "metadata": {},
   "outputs": [
    {
     "data": {
      "text/plain": [
       "300"
      ]
     },
     "execution_count": 6,
     "metadata": {},
     "output_type": "execute_result"
    }
   ],
   "source": [
    "fish_list = df.iloc[0]\n",
    "len(fish_list)"
   ]
  },
  {
   "cell_type": "code",
   "execution_count": 7,
   "id": "e7ff68de-7c7a-4c85-9790-eb6f12b52ac7",
   "metadata": {},
   "outputs": [],
   "source": [
    "tracking = np.full(9, 0, dtype=object)\n",
    "for i in fish_list:\n",
    "    tracking[i]+=1"
   ]
  },
  {
   "cell_type": "code",
   "execution_count": 8,
   "id": "b3b0a564-cbb0-4476-98a0-7bbf93a9723d",
   "metadata": {},
   "outputs": [
    {
     "data": {
      "text/plain": [
       "array([0, 205, 19, 27, 26, 23, 0, 0, 0], dtype=object)"
      ]
     },
     "execution_count": 8,
     "metadata": {},
     "output_type": "execute_result"
    }
   ],
   "source": [
    "tracking"
   ]
  },
  {
   "cell_type": "code",
   "execution_count": 9,
   "id": "2da99736-a2f7-4565-b724-9a878ec20720",
   "metadata": {},
   "outputs": [],
   "source": [
    "for d in range(0, number_of_days):\n",
    "    # print(tracking)\n",
    "    number_of_zeros = tracking[0]\n",
    "    tracking = np.roll(tracking, -1)\n",
    "    tracking[8] = number_of_zeros\n",
    "    tracking[6] += number_of_zeros"
   ]
  },
  {
   "cell_type": "code",
   "execution_count": 10,
   "id": "756e39b0-bbb1-41c5-97af-f6f1814758ef",
   "metadata": {},
   "outputs": [
    {
     "data": {
      "text/plain": [
       "1743335992042"
      ]
     },
     "execution_count": 10,
     "metadata": {},
     "output_type": "execute_result"
    }
   ],
   "source": [
    "tracking.sum()"
   ]
  }
 ],
 "metadata": {
  "kernelspec": {
   "display_name": "Python 3 (ipykernel)",
   "language": "python",
   "name": "python3"
  },
  "language_info": {
   "codemirror_mode": {
    "name": "ipython",
    "version": 3
   },
   "file_extension": ".py",
   "mimetype": "text/x-python",
   "name": "python",
   "nbconvert_exporter": "python",
   "pygments_lexer": "ipython3",
   "version": "3.8.12"
  }
 },
 "nbformat": 4,
 "nbformat_minor": 5
}
