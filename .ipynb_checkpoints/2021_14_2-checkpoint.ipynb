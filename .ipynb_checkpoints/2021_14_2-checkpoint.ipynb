{
 "cells": [
  {
   "cell_type": "code",
   "execution_count": 1,
   "id": "f7f1327e-5325-48e4-af32-e8547d8c398e",
   "metadata": {
    "tags": []
   },
   "outputs": [],
   "source": [
    "import pandas as pd\n",
    "import numpy as np\n",
    "from pathlib import Path\n",
    "from collections import Counter, defaultdict"
   ]
  },
  {
   "cell_type": "code",
   "execution_count": 2,
   "id": "7c647e19-a57f-4b53-ad5c-41f29a2909d5",
   "metadata": {},
   "outputs": [],
   "source": [
    "BASE_DIR = Path('C:/Users/atw10wp4/Jupyter/AdventOfCode/Data')"
   ]
  },
  {
   "cell_type": "code",
   "execution_count": 3,
   "id": "e296c2a0-b5ac-4312-a79c-27c75def68bf",
   "metadata": {},
   "outputs": [],
   "source": [
    "fileName = '2021_14_input.txt'\n",
    "fileNameFullPath = BASE_DIR / fileName"
   ]
  },
  {
   "cell_type": "code",
   "execution_count": 4,
   "id": "eb614f32-89b1-4acb-a182-a49425de493b",
   "metadata": {},
   "outputs": [
    {
     "data": {
      "text/plain": [
       "'PKHOVVOSCNVHHCVVCBOH'"
      ]
     },
     "execution_count": 4,
     "metadata": {},
     "output_type": "execute_result"
    }
   ],
   "source": [
    "template = pd.read_csv(fileNameFullPath, header=None, nrows=1).iloc[0,0]\n",
    "template"
   ]
  },
  {
   "cell_type": "code",
   "execution_count": 5,
   "id": "dff960d3-8f66-472a-b655-762da081556f",
   "metadata": {},
   "outputs": [],
   "source": [
    "df = pd.read_csv(fileNameFullPath, header=None, sep=' -> ', \n",
    "                 names=['head', 'target'], skiprows=2, engine='python')"
   ]
  },
  {
   "cell_type": "code",
   "execution_count": 6,
   "id": "93ea9e56-c459-4978-b4ee-e3f2fb7b2c22",
   "metadata": {},
   "outputs": [],
   "source": [
    "def initialize_dicts(template):\n",
    "    heads = df['head'].values\n",
    "    char_counts = defaultdict(int)\n",
    "    head_counts = defaultdict(int)\n",
    "    last_c = ''\n",
    "    for c in template:\n",
    "        char_counts[c] += 1\n",
    "        head = last_c + c\n",
    "        if head in heads:\n",
    "            head_counts[head] += 1\n",
    "        last_c = c\n",
    "    return char_counts, head_counts"
   ]
  },
  {
   "cell_type": "code",
   "execution_count": 7,
   "id": "2fae6267-fefd-4190-b33e-4ed99a9c1959",
   "metadata": {},
   "outputs": [],
   "source": [
    "heads = df['head'].values\n",
    "steps = 40\n",
    "\n",
    "char_counts, head_counts = initialize_dicts(template)\n",
    "\n",
    "for i in range(0, steps):\n",
    "    current_head_counts = dict(head_counts)\n",
    "    for head in current_head_counts.keys():\n",
    "        if current_head_counts[head] > 0 and head in heads:\n",
    "            occurrences = current_head_counts[head]\n",
    "            target = df[df['head'] == head]['target'].values[0]\n",
    "            char_counts[target] += occurrences\n",
    "            head_1 = head[0] + target\n",
    "            head_2 = target + head[1]\n",
    "            head_counts[head] -= occurrences\n",
    "            if head_1 in heads:\n",
    "                head_counts[head_1] += occurrences\n",
    "            if head_2 in heads:\n",
    "                head_counts[head_2] += occurrences"
   ]
  },
  {
   "cell_type": "code",
   "execution_count": 8,
   "id": "2a65697f-aede-4033-b347-8b239b41c40a",
   "metadata": {},
   "outputs": [],
   "source": [
    "sorted_count_dict = sorted(char_counts.items(), key=lambda x: x[1])"
   ]
  },
  {
   "cell_type": "code",
   "execution_count": 9,
   "id": "6651ddf4-22d8-4f88-9f2e-77eeb292dc18",
   "metadata": {},
   "outputs": [
    {
     "data": {
      "text/plain": [
       "[('H', 531879881577),\n",
       " ('C', 1086331049527),\n",
       " ('S', 1167956023144),\n",
       " ('N', 1492280233145),\n",
       " ('P', 1588745213556),\n",
       " ('K', 2179990401786),\n",
       " ('O', 2716162705403),\n",
       " ('B', 3070020787824),\n",
       " ('F', 3236583177149),\n",
       " ('V', 3820771454634)]"
      ]
     },
     "execution_count": 9,
     "metadata": {},
     "output_type": "execute_result"
    }
   ],
   "source": [
    "sorted_count_dict"
   ]
  },
  {
   "cell_type": "code",
   "execution_count": 10,
   "id": "6648b40e-e35b-4960-b383-633d370e0fc2",
   "metadata": {},
   "outputs": [
    {
     "data": {
      "text/plain": [
       "3288891573057"
      ]
     },
     "execution_count": 10,
     "metadata": {},
     "output_type": "execute_result"
    }
   ],
   "source": [
    "sorted_count_dict[-1][1] - sorted_count_dict[0][1]"
   ]
  },
  {
   "cell_type": "code",
   "execution_count": null,
   "id": "84d52a1a-d68f-4529-9580-6fcc668d08ed",
   "metadata": {},
   "outputs": [],
   "source": []
  }
 ],
 "metadata": {
  "kernelspec": {
   "display_name": "Python 3 (ipykernel)",
   "language": "python",
   "name": "python3"
  },
  "language_info": {
   "codemirror_mode": {
    "name": "ipython",
    "version": 3
   },
   "file_extension": ".py",
   "mimetype": "text/x-python",
   "name": "python",
   "nbconvert_exporter": "python",
   "pygments_lexer": "ipython3",
   "version": "3.8.12"
  }
 },
 "nbformat": 4,
 "nbformat_minor": 5
}
