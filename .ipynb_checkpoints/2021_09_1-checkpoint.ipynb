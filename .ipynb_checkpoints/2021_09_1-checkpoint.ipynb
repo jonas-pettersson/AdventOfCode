{
 "cells": [
  {
   "cell_type": "code",
   "execution_count": 1,
   "id": "f7f1327e-5325-48e4-af32-e8547d8c398e",
   "metadata": {
    "tags": []
   },
   "outputs": [],
   "source": [
    "import pandas as pd\n",
    "import numpy as np\n",
    "from pathlib import Path\n",
    "import math\n",
    "from scipy.ndimage.filters import minimum_filter"
   ]
  },
  {
   "cell_type": "code",
   "execution_count": 2,
   "id": "7c647e19-a57f-4b53-ad5c-41f29a2909d5",
   "metadata": {},
   "outputs": [],
   "source": [
    "BASE_DIR = Path('C:/Users/atw10wp4/Jupyter/AdventOfCode/Data')"
   ]
  },
  {
   "cell_type": "code",
   "execution_count": 3,
   "id": "e296c2a0-b5ac-4312-a79c-27c75def68bf",
   "metadata": {},
   "outputs": [],
   "source": [
    "fileName = '2021_09_input.txt'\n",
    "fileNameFullPath = BASE_DIR / fileName"
   ]
  },
  {
   "cell_type": "code",
   "execution_count": 4,
   "id": "dff960d3-8f66-472a-b655-762da081556f",
   "metadata": {},
   "outputs": [],
   "source": [
    "df = pd.read_csv(fileNameFullPath, header=None, dtype='str' )"
   ]
  },
  {
   "cell_type": "code",
   "execution_count": 5,
   "id": "e7991bc1-f3b6-402c-ae85-6a4ec7d8380b",
   "metadata": {},
   "outputs": [],
   "source": [
    "df = df[0].str.split(pat='', expand=True)"
   ]
  },
  {
   "cell_type": "code",
   "execution_count": 6,
   "id": "1318b696-92aa-4769-a8c4-29cd40d46fac",
   "metadata": {},
   "outputs": [],
   "source": [
    "df[0]='10'\n",
    "df[df.shape[1]-1]='10'"
   ]
  },
  {
   "cell_type": "code",
   "execution_count": 7,
   "id": "056e701e-b81f-4c93-98de-f922c5a3d149",
   "metadata": {},
   "outputs": [],
   "source": [
    "df.loc[-1] = np.full(df.shape[1], '10')"
   ]
  },
  {
   "cell_type": "code",
   "execution_count": 8,
   "id": "760a6a03-d177-4ce1-82a4-246a417b778f",
   "metadata": {},
   "outputs": [],
   "source": [
    "df.index = df.index + 1\n",
    "df = df.sort_index()"
   ]
  },
  {
   "cell_type": "code",
   "execution_count": 9,
   "id": "484a02cf-d7d6-4c0f-afbd-6f32da23b280",
   "metadata": {},
   "outputs": [],
   "source": [
    "df = df.append(pd.Series(np.full(df.shape[1], '10')), ignore_index=True)"
   ]
  },
  {
   "cell_type": "code",
   "execution_count": 10,
   "id": "af570b0a-a60d-4038-9fd0-17e1aa02d0d7",
   "metadata": {},
   "outputs": [],
   "source": [
    "# df = df[df.columns[1:-1]]"
   ]
  },
  {
   "cell_type": "code",
   "execution_count": 11,
   "id": "59472dc3-3bd3-4fcb-ac8e-77361a0f8145",
   "metadata": {},
   "outputs": [],
   "source": [
    "# df.columns = list(range(df.shape[1]))"
   ]
  },
  {
   "cell_type": "code",
   "execution_count": 12,
   "id": "19db1fb2-79c3-48d2-a921-f0056f307c4d",
   "metadata": {},
   "outputs": [],
   "source": [
    "df = df.astype(int)"
   ]
  },
  {
   "cell_type": "code",
   "execution_count": 13,
   "id": "ac32ce42-12d1-4605-bff1-4b9dc3058eb1",
   "metadata": {},
   "outputs": [],
   "source": [
    "heightmap = df.to_numpy()"
   ]
  },
  {
   "cell_type": "code",
   "execution_count": 14,
   "id": "0917749f-6200-4d71-ba5f-3e7fa9385a12",
   "metadata": {},
   "outputs": [],
   "source": [
    "minima = pd.DataFrame(heightmap == minimum_filter(heightmap, size=3, mode='constant', cval=10.0))"
   ]
  },
  {
   "cell_type": "code",
   "execution_count": 15,
   "id": "cc6a6c2c-c02d-4b9c-ab0d-2ba958afd436",
   "metadata": {},
   "outputs": [
    {
     "data": {
      "text/plain": [
       "513.0"
      ]
     },
     "execution_count": 15,
     "metadata": {},
     "output_type": "execute_result"
    }
   ],
   "source": [
    "(df[minima] + 1).to_numpy(na_value=0).sum()"
   ]
  },
  {
   "cell_type": "code",
   "execution_count": 16,
   "id": "7686e056-8f2b-42de-9fef-7e90ef585003",
   "metadata": {},
   "outputs": [],
   "source": [
    "def local_minima(array2d):\n",
    "    return ((array2d < np.roll(array2d,  1, 0)) &\n",
    "            (array2d < np.roll(array2d, -1, 0)) &\n",
    "            (array2d < np.roll(array2d,  1, 1)) &\n",
    "            (array2d < np.roll(array2d, -1, 1)))"
   ]
  },
  {
   "cell_type": "code",
   "execution_count": 17,
   "id": "715a4721-3e9f-454c-9270-3114913bdb0f",
   "metadata": {},
   "outputs": [
    {
     "data": {
      "text/plain": [
       "508.0"
      ]
     },
     "execution_count": 17,
     "metadata": {},
     "output_type": "execute_result"
    }
   ],
   "source": [
    "(df[local_minima(df)] + 1).to_numpy(na_value=0).sum()"
   ]
  },
  {
   "cell_type": "code",
   "execution_count": null,
   "id": "d3084ac5-754e-4497-ab89-0a2f0a0cb174",
   "metadata": {},
   "outputs": [],
   "source": []
  }
 ],
 "metadata": {
  "kernelspec": {
   "display_name": "Python 3 (ipykernel)",
   "language": "python",
   "name": "python3"
  },
  "language_info": {
   "codemirror_mode": {
    "name": "ipython",
    "version": 3
   },
   "file_extension": ".py",
   "mimetype": "text/x-python",
   "name": "python",
   "nbconvert_exporter": "python",
   "pygments_lexer": "ipython3",
   "version": "3.8.12"
  }
 },
 "nbformat": 4,
 "nbformat_minor": 5
}
