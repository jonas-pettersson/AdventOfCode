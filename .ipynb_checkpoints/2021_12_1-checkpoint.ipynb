{
 "cells": [
  {
   "cell_type": "code",
   "execution_count": 1,
   "id": "f7f1327e-5325-48e4-af32-e8547d8c398e",
   "metadata": {
    "tags": []
   },
   "outputs": [],
   "source": [
    "import pandas as pd\n",
    "import numpy as np\n",
    "from pathlib import Path\n",
    "import math\n",
    "from scipy.ndimage.filters import minimum_filter\n",
    "import matplotlib.pyplot as plt\n",
    "from statistics import median\n",
    "import itertools"
   ]
  },
  {
   "cell_type": "code",
   "execution_count": 2,
   "id": "7c647e19-a57f-4b53-ad5c-41f29a2909d5",
   "metadata": {},
   "outputs": [],
   "source": [
    "BASE_DIR = Path('C:/Users/atw10wp4/Jupyter/AdventOfCode/Data')"
   ]
  },
  {
   "cell_type": "code",
   "execution_count": 3,
   "id": "e296c2a0-b5ac-4312-a79c-27c75def68bf",
   "metadata": {},
   "outputs": [],
   "source": [
    "fileName = '2021_12_input.txt'\n",
    "fileNameFullPath = BASE_DIR / fileName"
   ]
  },
  {
   "cell_type": "code",
   "execution_count": 4,
   "id": "dff960d3-8f66-472a-b655-762da081556f",
   "metadata": {},
   "outputs": [],
   "source": [
    "df = pd.read_csv(fileNameFullPath, header=None, sep='-')"
   ]
  },
  {
   "cell_type": "code",
   "execution_count": 5,
   "id": "757c8bcd-37d1-4ec3-9443-d8707563a17c",
   "metadata": {},
   "outputs": [
    {
     "data": {
      "text/html": [
       "<div>\n",
       "<style scoped>\n",
       "    .dataframe tbody tr th:only-of-type {\n",
       "        vertical-align: middle;\n",
       "    }\n",
       "\n",
       "    .dataframe tbody tr th {\n",
       "        vertical-align: top;\n",
       "    }\n",
       "\n",
       "    .dataframe thead th {\n",
       "        text-align: right;\n",
       "    }\n",
       "</style>\n",
       "<table border=\"1\" class=\"dataframe\">\n",
       "  <thead>\n",
       "    <tr style=\"text-align: right;\">\n",
       "      <th></th>\n",
       "      <th>0</th>\n",
       "      <th>1</th>\n",
       "    </tr>\n",
       "  </thead>\n",
       "  <tbody>\n",
       "    <tr>\n",
       "      <th>0</th>\n",
       "      <td>zi</td>\n",
       "      <td>end</td>\n",
       "    </tr>\n",
       "    <tr>\n",
       "      <th>1</th>\n",
       "      <td>XR</td>\n",
       "      <td>start</td>\n",
       "    </tr>\n",
       "    <tr>\n",
       "      <th>2</th>\n",
       "      <td>zk</td>\n",
       "      <td>zi</td>\n",
       "    </tr>\n",
       "    <tr>\n",
       "      <th>3</th>\n",
       "      <td>TS</td>\n",
       "      <td>zk</td>\n",
       "    </tr>\n",
       "    <tr>\n",
       "      <th>4</th>\n",
       "      <td>zw</td>\n",
       "      <td>vl</td>\n",
       "    </tr>\n",
       "    <tr>\n",
       "      <th>5</th>\n",
       "      <td>zk</td>\n",
       "      <td>zw</td>\n",
       "    </tr>\n",
       "    <tr>\n",
       "      <th>6</th>\n",
       "      <td>end</td>\n",
       "      <td>po</td>\n",
       "    </tr>\n",
       "    <tr>\n",
       "      <th>7</th>\n",
       "      <td>ws</td>\n",
       "      <td>zw</td>\n",
       "    </tr>\n",
       "    <tr>\n",
       "      <th>8</th>\n",
       "      <td>TS</td>\n",
       "      <td>ws</td>\n",
       "    </tr>\n",
       "    <tr>\n",
       "      <th>9</th>\n",
       "      <td>po</td>\n",
       "      <td>TS</td>\n",
       "    </tr>\n",
       "    <tr>\n",
       "      <th>10</th>\n",
       "      <td>po</td>\n",
       "      <td>YH</td>\n",
       "    </tr>\n",
       "    <tr>\n",
       "      <th>11</th>\n",
       "      <td>po</td>\n",
       "      <td>xk</td>\n",
       "    </tr>\n",
       "    <tr>\n",
       "      <th>12</th>\n",
       "      <td>zi</td>\n",
       "      <td>ws</td>\n",
       "    </tr>\n",
       "    <tr>\n",
       "      <th>13</th>\n",
       "      <td>zk</td>\n",
       "      <td>end</td>\n",
       "    </tr>\n",
       "    <tr>\n",
       "      <th>14</th>\n",
       "      <td>zi</td>\n",
       "      <td>XR</td>\n",
       "    </tr>\n",
       "    <tr>\n",
       "      <th>15</th>\n",
       "      <td>XR</td>\n",
       "      <td>zk</td>\n",
       "    </tr>\n",
       "    <tr>\n",
       "      <th>16</th>\n",
       "      <td>vl</td>\n",
       "      <td>TS</td>\n",
       "    </tr>\n",
       "    <tr>\n",
       "      <th>17</th>\n",
       "      <td>start</td>\n",
       "      <td>zw</td>\n",
       "    </tr>\n",
       "    <tr>\n",
       "      <th>18</th>\n",
       "      <td>vl</td>\n",
       "      <td>start</td>\n",
       "    </tr>\n",
       "    <tr>\n",
       "      <th>19</th>\n",
       "      <td>XR</td>\n",
       "      <td>zw</td>\n",
       "    </tr>\n",
       "    <tr>\n",
       "      <th>20</th>\n",
       "      <td>XR</td>\n",
       "      <td>vl</td>\n",
       "    </tr>\n",
       "    <tr>\n",
       "      <th>21</th>\n",
       "      <td>XR</td>\n",
       "      <td>ws</td>\n",
       "    </tr>\n",
       "  </tbody>\n",
       "</table>\n",
       "</div>"
      ],
      "text/plain": [
       "        0      1\n",
       "0      zi    end\n",
       "1      XR  start\n",
       "2      zk     zi\n",
       "3      TS     zk\n",
       "4      zw     vl\n",
       "5      zk     zw\n",
       "6     end     po\n",
       "7      ws     zw\n",
       "8      TS     ws\n",
       "9      po     TS\n",
       "10     po     YH\n",
       "11     po     xk\n",
       "12     zi     ws\n",
       "13     zk    end\n",
       "14     zi     XR\n",
       "15     XR     zk\n",
       "16     vl     TS\n",
       "17  start     zw\n",
       "18     vl  start\n",
       "19     XR     zw\n",
       "20     XR     vl\n",
       "21     XR     ws"
      ]
     },
     "execution_count": 5,
     "metadata": {},
     "output_type": "execute_result"
    }
   ],
   "source": [
    "df"
   ]
  },
  {
   "cell_type": "code",
   "execution_count": 6,
   "id": "9d5e5eed-bf26-4f5e-bfd4-e7759ee29f10",
   "metadata": {},
   "outputs": [],
   "source": [
    "nodes = pd.concat([df[0], df [1]]).unique()\n",
    "small_caves = [c for c in nodes if c.islower()]\n",
    "large_caves = [c for c in nodes if c.isupper()]\n",
    "edges = df.values\n",
    "init_visited_dict = {n: 0 for n in nodes[nodes != 'end']}"
   ]
  },
  {
   "cell_type": "code",
   "execution_count": 8,
   "id": "50ee6339-f4ef-4f76-a0cc-1d690daa7979",
   "metadata": {},
   "outputs": [],
   "source": [
    "def can_be_successor(node, visited_dict):\n",
    "    can_visit = True\n",
    "    if node != 'end' and node in small_caves:\n",
    "        can_visit = visited_dict[node] == 0\n",
    "    return can_visit"
   ]
  },
  {
   "cell_type": "code",
   "execution_count": 9,
   "id": "1e2acc91-2b52-4803-a3db-7156c5915e68",
   "metadata": {},
   "outputs": [],
   "source": [
    "def get_successors(node, visited_dict):\n",
    "    successor_nodes = []\n",
    "    for e in edges:\n",
    "        if e[0] == node:\n",
    "            successor_nodes.append(e[1])\n",
    "        elif e[1] == node:\n",
    "            successor_nodes.append(e[0])\n",
    "    return [n for n in successor_nodes if can_be_successor(n, visited_dict)]"
   ]
  },
  {
   "cell_type": "code",
   "execution_count": 10,
   "id": "8d68c323-befa-4155-9e11-749e607f742f",
   "metadata": {},
   "outputs": [],
   "source": [
    "def search(node, visited_dict):\n",
    "    number_of_paths = 0\n",
    "    if node == 'end':\n",
    "        number_of_paths += 1\n",
    "    else:\n",
    "        visited_dict[node] += 1\n",
    "        for next_node in get_successors(node, visited_dict):\n",
    "            number_of_paths += search(next_node, dict(visited_dict))\n",
    "    return number_of_paths"
   ]
  },
  {
   "cell_type": "code",
   "execution_count": 11,
   "id": "5e29d5f4-03e6-4464-997b-242617ab4548",
   "metadata": {},
   "outputs": [
    {
     "data": {
      "text/plain": [
       "3761"
      ]
     },
     "execution_count": 11,
     "metadata": {},
     "output_type": "execute_result"
    }
   ],
   "source": [
    "search('start', init_visited_dict)"
   ]
  },
  {
   "cell_type": "code",
   "execution_count": null,
   "id": "d357055e-06cc-46d2-ba2c-ec68394caac8",
   "metadata": {},
   "outputs": [],
   "source": []
  }
 ],
 "metadata": {
  "kernelspec": {
   "display_name": "Python 3 (ipykernel)",
   "language": "python",
   "name": "python3"
  },
  "language_info": {
   "codemirror_mode": {
    "name": "ipython",
    "version": 3
   },
   "file_extension": ".py",
   "mimetype": "text/x-python",
   "name": "python",
   "nbconvert_exporter": "python",
   "pygments_lexer": "ipython3",
   "version": "3.8.12"
  }
 },
 "nbformat": 4,
 "nbformat_minor": 5
}
