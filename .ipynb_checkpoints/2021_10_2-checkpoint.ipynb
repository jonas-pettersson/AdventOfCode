{
 "cells": [
  {
   "cell_type": "code",
   "execution_count": 1,
   "id": "f7f1327e-5325-48e4-af32-e8547d8c398e",
   "metadata": {
    "tags": []
   },
   "outputs": [],
   "source": [
    "import pandas as pd\n",
    "import numpy as np\n",
    "from pathlib import Path\n",
    "import math\n",
    "from scipy.ndimage.filters import minimum_filter\n",
    "import matplotlib.pyplot as plt\n",
    "from statistics import median"
   ]
  },
  {
   "cell_type": "code",
   "execution_count": 2,
   "id": "7c647e19-a57f-4b53-ad5c-41f29a2909d5",
   "metadata": {},
   "outputs": [],
   "source": [
    "BASE_DIR = Path('C:/Users/atw10wp4/Jupyter/AdventOfCode/Data')"
   ]
  },
  {
   "cell_type": "code",
   "execution_count": 3,
   "id": "e296c2a0-b5ac-4312-a79c-27c75def68bf",
   "metadata": {},
   "outputs": [],
   "source": [
    "fileName = '2021_10_input.txt'\n",
    "fileNameFullPath = BASE_DIR / fileName"
   ]
  },
  {
   "cell_type": "code",
   "execution_count": 4,
   "id": "dff960d3-8f66-472a-b655-762da081556f",
   "metadata": {},
   "outputs": [],
   "source": [
    "df = pd.read_csv(fileNameFullPath, header=None, dtype='str' )"
   ]
  },
  {
   "cell_type": "code",
   "execution_count": 5,
   "id": "22222b20-0ec4-4883-b0ef-55970ebefa2d",
   "metadata": {},
   "outputs": [],
   "source": [
    "lefties = ['(', '[', '{', '<']\n",
    "righties = [')', ']', '}', '>']\n",
    "\n",
    "r_l_dict = {}\n",
    "for l, r in zip(lefties, righties):\n",
    "    r_l_dict[r] = l\n",
    "    \n",
    "l_r_dict = {}\n",
    "for l, r in zip(lefties, righties):\n",
    "    l_r_dict[l] = r\n",
    "    \n",
    "score_dict = {\n",
    "    ')': 1,\n",
    "    ']': 2,\n",
    "    '}': 3,\n",
    "    '>': 4}"
   ]
  },
  {
   "cell_type": "code",
   "execution_count": 6,
   "id": "15c6e16b-428e-4b7a-b562-23e522e16609",
   "metadata": {},
   "outputs": [],
   "source": [
    "completions = []\n",
    "scores = []\n",
    "for line in df[0].values:\n",
    "    stack = []\n",
    "    completion = []\n",
    "    found = False\n",
    "    score = 0\n",
    "    for i, c in enumerate(line):\n",
    "        if not found:\n",
    "            if c in lefties:\n",
    "                stack.append(c)\n",
    "            else:\n",
    "                d = stack.pop()\n",
    "                if r_l_dict[c] != d:\n",
    "                    found = True\n",
    "    if not found:\n",
    "        while len(stack) > 0:\n",
    "            c = stack.pop()\n",
    "            r = l_r_dict[c]\n",
    "            completion.append(r)\n",
    "            score = score * 5 + score_dict[r]\n",
    "        completions.append(completion)\n",
    "        scores.append(score)"
   ]
  },
  {
   "cell_type": "code",
   "execution_count": 7,
   "id": "bf495382-1385-4d4a-b7ab-df4d3598ca34",
   "metadata": {},
   "outputs": [
    {
     "data": {
      "text/plain": [
       "3646451424"
      ]
     },
     "execution_count": 7,
     "metadata": {},
     "output_type": "execute_result"
    }
   ],
   "source": [
    "median(scores)"
   ]
  },
  {
   "cell_type": "code",
   "execution_count": null,
   "id": "5aa97cfc-b4ff-4a03-a0ce-0b6e6349196a",
   "metadata": {},
   "outputs": [],
   "source": []
  }
 ],
 "metadata": {
  "kernelspec": {
   "display_name": "Python 3 (ipykernel)",
   "language": "python",
   "name": "python3"
  },
  "language_info": {
   "codemirror_mode": {
    "name": "ipython",
    "version": 3
   },
   "file_extension": ".py",
   "mimetype": "text/x-python",
   "name": "python",
   "nbconvert_exporter": "python",
   "pygments_lexer": "ipython3",
   "version": "3.8.12"
  }
 },
 "nbformat": 4,
 "nbformat_minor": 5
}
