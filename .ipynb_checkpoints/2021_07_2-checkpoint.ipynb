{
 "cells": [
  {
   "cell_type": "code",
   "execution_count": 26,
   "id": "f7f1327e-5325-48e4-af32-e8547d8c398e",
   "metadata": {
    "tags": []
   },
   "outputs": [],
   "source": [
    "import pandas as pd\n",
    "import numpy as np\n",
    "from pathlib import Path\n",
    "import math"
   ]
  },
  {
   "cell_type": "code",
   "execution_count": 12,
   "id": "7c647e19-a57f-4b53-ad5c-41f29a2909d5",
   "metadata": {},
   "outputs": [],
   "source": [
    "BASE_DIR = Path('C:/Users/atw10wp4/Jupyter/AdventOfCode/Data')"
   ]
  },
  {
   "cell_type": "code",
   "execution_count": 18,
   "id": "e296c2a0-b5ac-4312-a79c-27c75def68bf",
   "metadata": {},
   "outputs": [],
   "source": [
    "fileName = '2021_07_input.txt'\n",
    "fileNameFullPath = BASE_DIR / fileName"
   ]
  },
  {
   "cell_type": "code",
   "execution_count": 19,
   "id": "dff960d3-8f66-472a-b655-762da081556f",
   "metadata": {},
   "outputs": [],
   "source": [
    "df = pd.read_csv(fileNameFullPath, header=None, sep=',', )"
   ]
  },
  {
   "cell_type": "code",
   "execution_count": 20,
   "id": "04db8cf8-0c66-4dc8-8364-2f949412c2b1",
   "metadata": {},
   "outputs": [],
   "source": [
    "crab_list = df.iloc[0]"
   ]
  },
  {
   "cell_type": "code",
   "execution_count": 28,
   "id": "7ea67de8-8b8c-40de-9e11-b405310e2e95",
   "metadata": {},
   "outputs": [
    {
     "name": "stdout",
     "output_type": "stream",
     "text": [
      "mean:  478\n"
     ]
    }
   ],
   "source": [
    "dist = 0\n",
    "pos = math.floor(crab_list.mean())\n",
    "print('mean: ', pos)\n",
    "for i in crab_list:\n",
    "    n = abs(pos - i)\n",
    "    dist += (n * (n + 1)) / 2"
   ]
  },
  {
   "cell_type": "code",
   "execution_count": 29,
   "id": "76af761d-94f1-422d-b34e-9be702d0ee3b",
   "metadata": {},
   "outputs": [
    {
     "data": {
      "text/plain": [
       "97038163.0"
      ]
     },
     "execution_count": 29,
     "metadata": {},
     "output_type": "execute_result"
    }
   ],
   "source": [
    "dist"
   ]
  }
 ],
 "metadata": {
  "kernelspec": {
   "display_name": "Python 3 (ipykernel)",
   "language": "python",
   "name": "python3"
  },
  "language_info": {
   "codemirror_mode": {
    "name": "ipython",
    "version": 3
   },
   "file_extension": ".py",
   "mimetype": "text/x-python",
   "name": "python",
   "nbconvert_exporter": "python",
   "pygments_lexer": "ipython3",
   "version": "3.8.12"
  }
 },
 "nbformat": 4,
 "nbformat_minor": 5
}
