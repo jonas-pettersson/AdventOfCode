{
 "cells": [
  {
   "cell_type": "code",
   "execution_count": 1,
   "id": "f7f1327e-5325-48e4-af32-e8547d8c398e",
   "metadata": {},
   "outputs": [],
   "source": [
    "import pandas as pd\n",
    "import numpy as np\n",
    "from pathlib import Path"
   ]
  },
  {
   "cell_type": "code",
   "execution_count": 2,
   "id": "7c647e19-a57f-4b53-ad5c-41f29a2909d5",
   "metadata": {},
   "outputs": [],
   "source": [
    "BASE_DIR = Path('C:/Users/atw10wp4/Jupyter/AdventOfCode/Data')"
   ]
  },
  {
   "cell_type": "code",
   "execution_count": 3,
   "id": "e296c2a0-b5ac-4312-a79c-27c75def68bf",
   "metadata": {},
   "outputs": [],
   "source": [
    "fileName = '2021_02_input.txt'\n",
    "fileNameFullPath = BASE_DIR / fileName"
   ]
  },
  {
   "cell_type": "code",
   "execution_count": 4,
   "id": "dff960d3-8f66-472a-b655-762da081556f",
   "metadata": {},
   "outputs": [],
   "source": [
    "df = pd.read_csv(fileNameFullPath, header=None, names=['Directions'])"
   ]
  },
  {
   "cell_type": "code",
   "execution_count": 5,
   "id": "1c93873c-5ce2-45b0-a5a4-fe077bf08528",
   "metadata": {},
   "outputs": [],
   "source": [
    "df[['Directions', 'Units']] = df['Directions'].str.split(n=1, expand=True)"
   ]
  },
  {
   "cell_type": "code",
   "execution_count": 6,
   "id": "96451d5c-8f14-4eae-a3fc-8d8387e61b92",
   "metadata": {},
   "outputs": [
    {
     "data": {
      "text/plain": [
       "(1817, 997833)"
      ]
     },
     "execution_count": 6,
     "metadata": {},
     "output_type": "execute_result"
    }
   ],
   "source": [
    "hor_pos = 0\n",
    "depth = 0\n",
    "aim = 0\n",
    "for direction, unit in zip(df['Directions'], df['Units']):\n",
    "    amount = int(unit)\n",
    "    if direction == 'down':\n",
    "        aim += amount\n",
    "    elif direction == 'up':\n",
    "        aim -= amount\n",
    "    elif direction == 'forward':\n",
    "        hor_pos += amount\n",
    "        depth += aim * amount\n",
    "hor_pos, depth"
   ]
  },
  {
   "cell_type": "code",
   "execution_count": 7,
   "id": "9bd7e188-29f4-4df6-bb9c-673a6588d730",
   "metadata": {},
   "outputs": [
    {
     "data": {
      "text/plain": [
       "1813062561"
      ]
     },
     "execution_count": 7,
     "metadata": {},
     "output_type": "execute_result"
    }
   ],
   "source": [
    "hor_pos * depth"
   ]
  }
 ],
 "metadata": {
  "kernelspec": {
   "display_name": "Python 3 (ipykernel)",
   "language": "python",
   "name": "python3"
  },
  "language_info": {
   "codemirror_mode": {
    "name": "ipython",
    "version": 3
   },
   "file_extension": ".py",
   "mimetype": "text/x-python",
   "name": "python",
   "nbconvert_exporter": "python",
   "pygments_lexer": "ipython3",
   "version": "3.8.12"
  }
 },
 "nbformat": 4,
 "nbformat_minor": 5
}
