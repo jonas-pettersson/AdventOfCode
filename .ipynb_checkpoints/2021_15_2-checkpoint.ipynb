{
 "cells": [
  {
   "cell_type": "code",
   "execution_count": 1,
   "id": "f7f1327e-5325-48e4-af32-e8547d8c398e",
   "metadata": {
    "tags": []
   },
   "outputs": [],
   "source": [
    "import pandas as pd\n",
    "import numpy as np\n",
    "from pathlib import Path\n",
    "import heapq\n",
    "import math\n",
    "from collections import defaultdict"
   ]
  },
  {
   "cell_type": "code",
   "execution_count": 2,
   "id": "7c647e19-a57f-4b53-ad5c-41f29a2909d5",
   "metadata": {},
   "outputs": [],
   "source": [
    "BASE_DIR = Path('C:/Users/atw10wp4/Jupyter/AdventOfCode/Data')"
   ]
  },
  {
   "cell_type": "code",
   "execution_count": 3,
   "id": "e296c2a0-b5ac-4312-a79c-27c75def68bf",
   "metadata": {},
   "outputs": [],
   "source": [
    "fileName = '2021_15_input.txt'\n",
    "fileNameFullPath = BASE_DIR / fileName"
   ]
  },
  {
   "cell_type": "code",
   "execution_count": 4,
   "id": "dff960d3-8f66-472a-b655-762da081556f",
   "metadata": {},
   "outputs": [],
   "source": [
    "df = pd.read_csv(fileNameFullPath, header=None, dtype='str' )"
   ]
  },
  {
   "cell_type": "code",
   "execution_count": 5,
   "id": "b276cdc4-05b1-4f4c-a27b-a2b7ffbf9af2",
   "metadata": {},
   "outputs": [],
   "source": [
    "df = df[0].str.split(pat='', expand=True)\n",
    "df = df[df.columns[1:-1]]\n",
    "df.columns = range(df.shape[0])\n",
    "df = df.reset_index(drop=True)\n",
    "df = df.astype(int)"
   ]
  },
  {
   "cell_type": "code",
   "execution_count": 6,
   "id": "9b845c63-3c69-402f-8cf6-3cbb92356cd8",
   "metadata": {},
   "outputs": [],
   "source": [
    "directions = [(0, 1), (1, 0), (0, -1), (-1, 0)]\n",
    "\n",
    "map_width = df.shape[0]\n",
    "map_height = df.shape[1]\n",
    "\n",
    "tiles = 5"
   ]
  },
  {
   "cell_type": "code",
   "execution_count": 7,
   "id": "3b58c4cb-eac3-49e8-9aa2-b4a714161bd3",
   "metadata": {},
   "outputs": [],
   "source": [
    "def reconstruct_path(came_from, current_node):\n",
    "    total_path = [(current_node, risk_level(current_node))]\n",
    "    while current_node in came_from.keys():\n",
    "        current_node = came_from[current_node]\n",
    "        total_path.append((current_node, risk_level(current_node)))\n",
    "    return total_path"
   ]
  },
  {
   "cell_type": "code",
   "execution_count": 8,
   "id": "8e1baa4f-31f9-4d09-80ce-7bea4f4218ef",
   "metadata": {},
   "outputs": [],
   "source": [
    "def get_start_state():\n",
    "    return (0, 0)"
   ]
  },
  {
   "cell_type": "code",
   "execution_count": 9,
   "id": "d701f901-bbf1-49ae-9aff-6935a6456898",
   "metadata": {},
   "outputs": [],
   "source": [
    "def get_goal_state():\n",
    "    return (map_width * tiles - 1, map_height * tiles - 1)"
   ]
  },
  {
   "cell_type": "code",
   "execution_count": 10,
   "id": "e5ab4ff6-bbfc-404e-b34f-17eb10f397f4",
   "metadata": {},
   "outputs": [],
   "source": [
    "def is_on_map(node):\n",
    "    return node[0] in range(0, map_width * tiles) and node[1] in range(0, map_height * tiles)"
   ]
  },
  {
   "cell_type": "code",
   "execution_count": 11,
   "id": "79a8deba-2875-4e27-85fd-b5847470dbb9",
   "metadata": {},
   "outputs": [],
   "source": [
    "def get_successors(node):\n",
    "    successor_nodes = []\n",
    "    for d in directions:\n",
    "        successor_node = tuple([sum(n) for n in zip(node, d)])\n",
    "        if is_on_map(successor_node):\n",
    "            successor_nodes.append(successor_node)\n",
    "    return successor_nodes"
   ]
  },
  {
   "cell_type": "code",
   "execution_count": 12,
   "id": "3389485c-f10d-4949-be36-48ebcb47cd0b",
   "metadata": {},
   "outputs": [],
   "source": [
    "def h_score(node):\n",
    "    man_dist = map_width * tiles - node[0] + map_height * tiles - node[1]\n",
    "    # value = risk_level(node) # * math.floor(man_dist / 5)\n",
    "    # cross_sum = 0\n",
    "    # cross_sum += df.iloc[node[0] + 1:, 1].sum() if node[0] < map_height else 0\n",
    "    # cross_sum += df.iloc[-1, node[1] + 1:].sum() if node[1] < map_width else 0\n",
    "    # cross_sum = df.iloc[node[0] + 1:, 1].sum() + df.iloc[-1, node[1]:].sum()\n",
    "    # value = cross_sum\n",
    "    return man_dist"
   ]
  },
  {
   "cell_type": "code",
   "execution_count": 13,
   "id": "1b1e2ada-a7e3-4a7f-8d49-a883804f0459",
   "metadata": {},
   "outputs": [],
   "source": [
    "def risk_level(node):\n",
    "    y_adder, y = divmod(node[0], map_height)\n",
    "    x_adder, x = divmod(node[1], map_height)\n",
    "    value = (df.iloc[y, x] + y_adder + x_adder - 1) % 9 + 1\n",
    "    return value"
   ]
  },
  {
   "cell_type": "code",
   "execution_count": 14,
   "id": "8d68c323-befa-4155-9e11-749e607f742f",
   "metadata": {},
   "outputs": [],
   "source": [
    "def search():\n",
    "    open_list = []\n",
    "    open_heap = []\n",
    "    start_node = get_start_state()\n",
    "    goal_node = get_goal_state()\n",
    "    open_list.append(start_node)\n",
    "    heapq.heappush(open_heap, (0, start_node))\n",
    "    came_from = {}\n",
    "    g_score = defaultdict(lambda: math.inf)\n",
    "    g_score[start_node] = 0\n",
    "    f_score = defaultdict(lambda: math.inf)\n",
    "    f_score[start_node] = h_score(start_node)\n",
    "    while len(open_list) > 0:\n",
    "        current_node = heapq.heappop(open_heap)[1]\n",
    "        open_list.remove(current_node)\n",
    "        if current_node == goal_node:\n",
    "            return reconstruct_path(came_from, current_node)\n",
    "        for successor_node in get_successors(current_node):\n",
    "            tentative_g_score = g_score[current_node] + risk_level(successor_node)\n",
    "            if tentative_g_score < g_score[successor_node]:\n",
    "                came_from[successor_node] = current_node\n",
    "                g_score[successor_node] = tentative_g_score\n",
    "                f_score[successor_node] = tentative_g_score + h_score(successor_node)\n",
    "                if successor_node not in open_list:\n",
    "                    heapq.heappush(open_heap, (f_score[successor_node], successor_node))\n",
    "                    open_list.append(successor_node)\n",
    "    return []"
   ]
  },
  {
   "cell_type": "code",
   "execution_count": 15,
   "id": "4d8e739a-c652-433d-9584-895989e3289f",
   "metadata": {},
   "outputs": [],
   "source": [
    "path = search()"
   ]
  },
  {
   "cell_type": "code",
   "execution_count": 16,
   "id": "3d122105-f4e7-44c3-aa5c-c186fd669436",
   "metadata": {},
   "outputs": [
    {
     "data": {
      "text/plain": [
       "2881"
      ]
     },
     "execution_count": 16,
     "metadata": {},
     "output_type": "execute_result"
    }
   ],
   "source": [
    "sum([r for node, r in path]) - 1"
   ]
  },
  {
   "cell_type": "code",
   "execution_count": null,
   "id": "b95d3269-2a98-4353-a09c-0aa281d20d92",
   "metadata": {},
   "outputs": [],
   "source": []
  }
 ],
 "metadata": {
  "kernelspec": {
   "display_name": "Python 3 (ipykernel)",
   "language": "python",
   "name": "python3"
  },
  "language_info": {
   "codemirror_mode": {
    "name": "ipython",
    "version": 3
   },
   "file_extension": ".py",
   "mimetype": "text/x-python",
   "name": "python",
   "nbconvert_exporter": "python",
   "pygments_lexer": "ipython3",
   "version": "3.8.12"
  }
 },
 "nbformat": 4,
 "nbformat_minor": 5
}
