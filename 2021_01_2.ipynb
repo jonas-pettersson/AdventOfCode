{
 "cells": [
  {
   "cell_type": "code",
   "execution_count": 1,
   "id": "f7f1327e-5325-48e4-af32-e8547d8c398e",
   "metadata": {},
   "outputs": [],
   "source": [
    "import pandas as pd\n",
    "import numpy as np\n",
    "from pathlib import Path"
   ]
  },
  {
   "cell_type": "code",
   "execution_count": 2,
   "id": "7c647e19-a57f-4b53-ad5c-41f29a2909d5",
   "metadata": {},
   "outputs": [],
   "source": [
    "BASE_DIR = Path('C:/Users/atw10wp4/Jupyter/AdventOfCode/Data')"
   ]
  },
  {
   "cell_type": "code",
   "execution_count": 3,
   "id": "e296c2a0-b5ac-4312-a79c-27c75def68bf",
   "metadata": {},
   "outputs": [],
   "source": [
    "fileName = '2021_01_1_input.txt'\n",
    "fileNameFullPath = BASE_DIR / fileName"
   ]
  },
  {
   "cell_type": "code",
   "execution_count": 4,
   "id": "dff960d3-8f66-472a-b655-762da081556f",
   "metadata": {},
   "outputs": [],
   "source": [
    "df = pd.read_csv(fileNameFullPath, header=None, names=['Depths'])"
   ]
  },
  {
   "cell_type": "code",
   "execution_count": 5,
   "id": "f2c1ac15-9ec0-432a-8a49-e1be1370aa48",
   "metadata": {},
   "outputs": [],
   "source": [
    "for i in range(1, 4):\n",
    "    df['Shift ' + str(i)] = df['Depths'].shift(i)"
   ]
  },
  {
   "cell_type": "code",
   "execution_count": 6,
   "id": "67050f76-d620-4cb8-bf0f-70910fadaeb8",
   "metadata": {},
   "outputs": [],
   "source": [
    "df['Sum'] = df.iloc[:, -3:].sum(axis=1)"
   ]
  },
  {
   "cell_type": "code",
   "execution_count": 7,
   "id": "1c93873c-5ce2-45b0-a5a4-fe077bf08528",
   "metadata": {},
   "outputs": [],
   "source": [
    "df['Increased'] = df['Sum'] > df['Sum'].shift()"
   ]
  },
  {
   "cell_type": "code",
   "execution_count": 9,
   "id": "771e6001-a1eb-4dbd-95a8-cc9e6559e7c0",
   "metadata": {},
   "outputs": [
    {
     "data": {
      "text/plain": [
       "1418"
      ]
     },
     "execution_count": 9,
     "metadata": {},
     "output_type": "execute_result"
    }
   ],
   "source": [
    "df['Increased'].sum() - 2"
   ]
  },
  {
   "cell_type": "code",
   "execution_count": null,
   "id": "5942e9e0-27f8-4838-ad2c-6a131c3c7555",
   "metadata": {},
   "outputs": [],
   "source": []
  }
 ],
 "metadata": {
  "kernelspec": {
   "display_name": "Python 3 (ipykernel)",
   "language": "python",
   "name": "python3"
  },
  "language_info": {
   "codemirror_mode": {
    "name": "ipython",
    "version": 3
   },
   "file_extension": ".py",
   "mimetype": "text/x-python",
   "name": "python",
   "nbconvert_exporter": "python",
   "pygments_lexer": "ipython3",
   "version": "3.8.12"
  }
 },
 "nbformat": 4,
 "nbformat_minor": 5
}
