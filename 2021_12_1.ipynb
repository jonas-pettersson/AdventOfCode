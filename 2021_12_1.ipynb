{
 "cells": [
  {
   "cell_type": "code",
   "execution_count": 1,
   "id": "f7f1327e-5325-48e4-af32-e8547d8c398e",
   "metadata": {
    "tags": []
   },
   "outputs": [],
   "source": [
    "import pandas as pd\n",
    "import numpy as np\n",
    "from pathlib import Path\n",
    "import math\n",
    "from scipy.ndimage.filters import minimum_filter\n",
    "import matplotlib.pyplot as plt\n",
    "from statistics import median\n",
    "import itertools"
   ]
  },
  {
   "cell_type": "code",
   "execution_count": 2,
   "id": "7c647e19-a57f-4b53-ad5c-41f29a2909d5",
   "metadata": {},
   "outputs": [],
   "source": [
    "BASE_DIR = Path('C:/Users/atw10wp4/Jupyter/AdventOfCode/Data')"
   ]
  },
  {
   "cell_type": "code",
   "execution_count": 3,
   "id": "e296c2a0-b5ac-4312-a79c-27c75def68bf",
   "metadata": {},
   "outputs": [],
   "source": [
    "fileName = '2021_12_input.txt'\n",
    "fileNameFullPath = BASE_DIR / fileName"
   ]
  },
  {
   "cell_type": "code",
   "execution_count": 4,
   "id": "dff960d3-8f66-472a-b655-762da081556f",
   "metadata": {},
   "outputs": [],
   "source": [
    "df = pd.read_csv(fileNameFullPath, header=None, sep='-')"
   ]
  },
  {
   "cell_type": "code",
   "execution_count": 5,
   "id": "9d5e5eed-bf26-4f5e-bfd4-e7759ee29f10",
   "metadata": {},
   "outputs": [],
   "source": [
    "nodes = pd.concat([df[0], df [1]]).unique()\n",
    "small_caves = [c for c in nodes if c.islower()]\n",
    "edges = df.values\n",
    "visited_dict = {n: 0 for n in nodes[nodes != 'end']}"
   ]
  },
  {
   "cell_type": "code",
   "execution_count": 6,
   "id": "50ee6339-f4ef-4f76-a0cc-1d690daa7979",
   "metadata": {},
   "outputs": [],
   "source": [
    "def can_be_successor(node, visited_dict):\n",
    "    can_visit = True\n",
    "    if node != 'end' and node in small_caves:\n",
    "        can_visit = visited_dict[node] == 0\n",
    "    return can_visit"
   ]
  },
  {
   "cell_type": "code",
   "execution_count": 7,
   "id": "1e2acc91-2b52-4803-a3db-7156c5915e68",
   "metadata": {},
   "outputs": [],
   "source": [
    "def get_successors(node, visited_dict):\n",
    "    successor_nodes = []\n",
    "    for e in edges:\n",
    "        if e[0] == node:\n",
    "            successor_nodes.append(e[1])\n",
    "        elif e[1] == node:\n",
    "            successor_nodes.append(e[0])\n",
    "    return [n for n in successor_nodes if can_be_successor(n, visited_dict)]"
   ]
  },
  {
   "cell_type": "code",
   "execution_count": 8,
   "id": "8d68c323-befa-4155-9e11-749e607f742f",
   "metadata": {},
   "outputs": [],
   "source": [
    "def search(node, visited_dict):\n",
    "    number_of_paths = 0\n",
    "    if node == 'end':\n",
    "        number_of_paths += 1\n",
    "    else:\n",
    "        visited_dict[node] += 1\n",
    "        for next_node in get_successors(node, visited_dict):\n",
    "            number_of_paths += search(next_node, dict(visited_dict))\n",
    "    return number_of_paths"
   ]
  },
  {
   "cell_type": "code",
   "execution_count": 9,
   "id": "5e29d5f4-03e6-4464-997b-242617ab4548",
   "metadata": {},
   "outputs": [
    {
     "data": {
      "text/plain": [
       "3761"
      ]
     },
     "execution_count": 9,
     "metadata": {},
     "output_type": "execute_result"
    }
   ],
   "source": [
    "search('start', visited_dict)"
   ]
  }
 ],
 "metadata": {
  "kernelspec": {
   "display_name": "Python 3 (ipykernel)",
   "language": "python",
   "name": "python3"
  },
  "language_info": {
   "codemirror_mode": {
    "name": "ipython",
    "version": 3
   },
   "file_extension": ".py",
   "mimetype": "text/x-python",
   "name": "python",
   "nbconvert_exporter": "python",
   "pygments_lexer": "ipython3",
   "version": "3.8.12"
  }
 },
 "nbformat": 4,
 "nbformat_minor": 5
}
