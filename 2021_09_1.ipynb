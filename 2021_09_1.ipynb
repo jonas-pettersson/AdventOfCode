{
 "cells": [
  {
   "cell_type": "code",
   "execution_count": 1,
   "id": "f7f1327e-5325-48e4-af32-e8547d8c398e",
   "metadata": {
    "tags": []
   },
   "outputs": [],
   "source": [
    "import pandas as pd\n",
    "import numpy as np\n",
    "from pathlib import Path\n",
    "import math\n",
    "from scipy.ndimage.filters import minimum_filter"
   ]
  },
  {
   "cell_type": "code",
   "execution_count": 2,
   "id": "7c647e19-a57f-4b53-ad5c-41f29a2909d5",
   "metadata": {},
   "outputs": [],
   "source": [
    "BASE_DIR = Path('C:/Users/atw10wp4/Jupyter/AdventOfCode/Data')"
   ]
  },
  {
   "cell_type": "code",
   "execution_count": 3,
   "id": "e296c2a0-b5ac-4312-a79c-27c75def68bf",
   "metadata": {},
   "outputs": [],
   "source": [
    "fileName = '2021_09_input.txt'\n",
    "fileNameFullPath = BASE_DIR / fileName"
   ]
  },
  {
   "cell_type": "code",
   "execution_count": 4,
   "id": "dff960d3-8f66-472a-b655-762da081556f",
   "metadata": {},
   "outputs": [],
   "source": [
    "df = pd.read_csv(fileNameFullPath, header=None, dtype='str' )"
   ]
  },
  {
   "cell_type": "code",
   "execution_count": 5,
   "id": "e7991bc1-f3b6-402c-ae85-6a4ec7d8380b",
   "metadata": {},
   "outputs": [],
   "source": [
    "df = df[0].str.split(pat='', expand=True)"
   ]
  },
  {
   "cell_type": "code",
   "execution_count": 6,
   "id": "1318b696-92aa-4769-a8c4-29cd40d46fac",
   "metadata": {},
   "outputs": [],
   "source": [
    "df[0]='10'\n",
    "df[df.shape[1]-1]='10'\n",
    "\n",
    "df.loc[-1] = np.full(df.shape[1], '10')\n",
    "df.index = df.index + 1\n",
    "df = df.sort_index()\n",
    "\n",
    "df = df.append(pd.Series(np.full(df.shape[1], '10')), ignore_index=True)"
   ]
  },
  {
   "cell_type": "code",
   "execution_count": 7,
   "id": "19db1fb2-79c3-48d2-a921-f0056f307c4d",
   "metadata": {},
   "outputs": [],
   "source": [
    "df = df.astype(int)"
   ]
  },
  {
   "cell_type": "code",
   "execution_count": 8,
   "id": "7686e056-8f2b-42de-9fef-7e90ef585003",
   "metadata": {},
   "outputs": [],
   "source": [
    "def local_minima(array2d):\n",
    "    return ((array2d < np.roll(array2d,  1, 0)) &\n",
    "            (array2d < np.roll(array2d, -1, 0)) &\n",
    "            (array2d < np.roll(array2d,  1, 1)) &\n",
    "            (array2d < np.roll(array2d, -1, 1)))"
   ]
  },
  {
   "cell_type": "code",
   "execution_count": 9,
   "id": "715a4721-3e9f-454c-9270-3114913bdb0f",
   "metadata": {},
   "outputs": [
    {
     "data": {
      "text/plain": [
       "508.0"
      ]
     },
     "execution_count": 9,
     "metadata": {},
     "output_type": "execute_result"
    }
   ],
   "source": [
    "(df[local_minima(df)] + 1).to_numpy(na_value=0).sum()"
   ]
  },
  {
   "cell_type": "code",
   "execution_count": null,
   "id": "d3084ac5-754e-4497-ab89-0a2f0a0cb174",
   "metadata": {},
   "outputs": [],
   "source": []
  }
 ],
 "metadata": {
  "kernelspec": {
   "display_name": "Python 3 (ipykernel)",
   "language": "python",
   "name": "python3"
  },
  "language_info": {
   "codemirror_mode": {
    "name": "ipython",
    "version": 3
   },
   "file_extension": ".py",
   "mimetype": "text/x-python",
   "name": "python",
   "nbconvert_exporter": "python",
   "pygments_lexer": "ipython3",
   "version": "3.8.12"
  }
 },
 "nbformat": 4,
 "nbformat_minor": 5
}
