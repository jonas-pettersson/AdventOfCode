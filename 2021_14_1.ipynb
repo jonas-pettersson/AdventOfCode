{
 "cells": [
  {
   "cell_type": "code",
   "execution_count": 1,
   "id": "f7f1327e-5325-48e4-af32-e8547d8c398e",
   "metadata": {
    "tags": []
   },
   "outputs": [],
   "source": [
    "import pandas as pd\n",
    "import numpy as np\n",
    "from pathlib import Path\n",
    "from collections import Counter"
   ]
  },
  {
   "cell_type": "code",
   "execution_count": 2,
   "id": "7c647e19-a57f-4b53-ad5c-41f29a2909d5",
   "metadata": {},
   "outputs": [],
   "source": [
    "BASE_DIR = Path('C:/Users/atw10wp4/Jupyter/AdventOfCode/Data')"
   ]
  },
  {
   "cell_type": "code",
   "execution_count": 3,
   "id": "e296c2a0-b5ac-4312-a79c-27c75def68bf",
   "metadata": {},
   "outputs": [],
   "source": [
    "fileName = '2021_14_input.txt'\n",
    "fileNameFullPath = BASE_DIR / fileName"
   ]
  },
  {
   "cell_type": "code",
   "execution_count": 4,
   "id": "eb614f32-89b1-4acb-a182-a49425de493b",
   "metadata": {},
   "outputs": [
    {
     "data": {
      "text/plain": [
       "'PKHOVVOSCNVHHCVVCBOH'"
      ]
     },
     "execution_count": 4,
     "metadata": {},
     "output_type": "execute_result"
    }
   ],
   "source": [
    "template = pd.read_csv(fileNameFullPath, header=None, nrows=1).iloc[0,0]\n",
    "template"
   ]
  },
  {
   "cell_type": "code",
   "execution_count": 5,
   "id": "dff960d3-8f66-472a-b655-762da081556f",
   "metadata": {},
   "outputs": [],
   "source": [
    "df = pd.read_csv(fileNameFullPath, header=None, sep=' -> ', \n",
    "                 names=['head', 'target'], skiprows=2, engine='python')"
   ]
  },
  {
   "cell_type": "code",
   "execution_count": 6,
   "id": "81c6bd81-104e-4e13-9084-83b36c349557",
   "metadata": {},
   "outputs": [],
   "source": [
    "steps = 10\n",
    "heads = df['head'].values\n",
    "for i in range(0, steps):\n",
    "    last_c = ''\n",
    "    polymer = ''\n",
    "    for c in template:\n",
    "        polymer += last_c\n",
    "        head = last_c + c\n",
    "        if head in heads:\n",
    "            target = df[df['head'] == head]['target'].values[0]\n",
    "            polymer += target\n",
    "        last_c = c\n",
    "    polymer += template[-1]\n",
    "    template = polymer"
   ]
  },
  {
   "cell_type": "code",
   "execution_count": 7,
   "id": "fd064195-097a-4a4b-87ff-f6e2f2d62f8d",
   "metadata": {},
   "outputs": [],
   "source": [
    "sorted_count_dict = sorted(Counter(polymer).items(), key=lambda x: x[1])"
   ]
  },
  {
   "cell_type": "code",
   "execution_count": 8,
   "id": "4666512a-be94-44ed-a98b-c3b102c465b9",
   "metadata": {},
   "outputs": [
    {
     "data": {
      "text/plain": [
       "[('H', 587),\n",
       " ('C', 1077),\n",
       " ('S', 1390),\n",
       " ('P', 1539),\n",
       " ('N', 1636),\n",
       " ('K', 2166),\n",
       " ('F', 2272),\n",
       " ('B', 2431),\n",
       " ('O', 2724),\n",
       " ('V', 3635)]"
      ]
     },
     "execution_count": 8,
     "metadata": {},
     "output_type": "execute_result"
    }
   ],
   "source": [
    "sorted_count_dict"
   ]
  },
  {
   "cell_type": "code",
   "execution_count": 9,
   "id": "9b02593f-2ed6-4ce2-86cc-83da8a1c8d5c",
   "metadata": {},
   "outputs": [
    {
     "data": {
      "text/plain": [
       "3048"
      ]
     },
     "execution_count": 9,
     "metadata": {},
     "output_type": "execute_result"
    }
   ],
   "source": [
    "sorted_count_dict[-1][1] - sorted_count_dict[0][1]"
   ]
  },
  {
   "cell_type": "code",
   "execution_count": null,
   "id": "e76d28e5-936f-487b-8c21-5e4b50fa57df",
   "metadata": {},
   "outputs": [],
   "source": []
  }
 ],
 "metadata": {
  "kernelspec": {
   "display_name": "Python 3 (ipykernel)",
   "language": "python",
   "name": "python3"
  },
  "language_info": {
   "codemirror_mode": {
    "name": "ipython",
    "version": 3
   },
   "file_extension": ".py",
   "mimetype": "text/x-python",
   "name": "python",
   "nbconvert_exporter": "python",
   "pygments_lexer": "ipython3",
   "version": "3.8.12"
  }
 },
 "nbformat": 4,
 "nbformat_minor": 5
}
