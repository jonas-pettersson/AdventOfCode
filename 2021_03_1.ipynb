{
 "cells": [
  {
   "cell_type": "code",
   "execution_count": 1,
   "id": "f7f1327e-5325-48e4-af32-e8547d8c398e",
   "metadata": {},
   "outputs": [],
   "source": [
    "import pandas as pd\n",
    "import numpy as np\n",
    "from pathlib import Path"
   ]
  },
  {
   "cell_type": "code",
   "execution_count": 2,
   "id": "7c647e19-a57f-4b53-ad5c-41f29a2909d5",
   "metadata": {},
   "outputs": [],
   "source": [
    "BASE_DIR = Path('C:/Users/atw10wp4/Jupyter/AdventOfCode/Data')"
   ]
  },
  {
   "cell_type": "code",
   "execution_count": null,
   "id": "e296c2a0-b5ac-4312-a79c-27c75def68bf",
   "metadata": {},
   "outputs": [],
   "source": [
    "fileName = '2021_03_input_test.txt'\n",
    "fileNameFullPath = BASE_DIR / fileName"
   ]
  },
  {
   "cell_type": "code",
   "execution_count": null,
   "id": "dff960d3-8f66-472a-b655-762da081556f",
   "metadata": {},
   "outputs": [],
   "source": [
    "df = pd.read_csv(fileNameFullPath, header=None, names=['Diag'], dtype=str)"
   ]
  },
  {
   "cell_type": "code",
   "execution_count": null,
   "id": "33c66ce8-ea31-472f-89f1-59202af68190",
   "metadata": {},
   "outputs": [],
   "source": [
    "df = df['Diag'].str.split(pat='', expand=True)\n",
    "df = df[df.columns[1:-1]]"
   ]
  },
  {
   "cell_type": "code",
   "execution_count": null,
   "id": "13449765-b6e9-4955-a7a6-962c976d5bab",
   "metadata": {},
   "outputs": [],
   "source": [
    "df0 = df\n",
    "df"
   ]
  },
  {
   "cell_type": "code",
   "execution_count": null,
   "id": "69b5fc13-58d3-448d-800a-24d29f61fe8c",
   "metadata": {},
   "outputs": [],
   "source": [
    "answer = 0\n",
    "for c in df:\n",
    "    sum_gt_half_size = df[c].astype(int).sum() * 2 >= df.shape[0]\n",
    "    # sum_gt_half_size -> 1 is most common or they are equal\n",
    "    # !sum_gt_half_size -> 0 is most common \n",
    "    \n",
    "    if sum_gt_half_size:\n",
    "        df2 = df[df[c] == '1']\n",
    "    else:\n",
    "        df2 = df[df[c] == '0']\n",
    "    \n",
    "    if df2.shape[0] == 1:\n",
    "        answer = df2.iloc[0]\n",
    "        break\n",
    "    elif df2.shape[0] == 0:\n",
    "        answer = df.iloc[0]\n",
    "        break\n",
    "    else:\n",
    "        df = df2"
   ]
  },
  {
   "cell_type": "code",
   "execution_count": null,
   "id": "7dcea6a1-e1d3-4231-9a87-f9e254688669",
   "metadata": {},
   "outputs": [],
   "source": [
    "''.join(answer)"
   ]
  },
  {
   "cell_type": "code",
   "execution_count": null,
   "id": "ab33cb28-aeae-4dd0-abd4-e74af2b343ba",
   "metadata": {},
   "outputs": [],
   "source": [
    "oxygen_generator_rating = int(''.join(answer), 2)\n",
    "oxygen_generator_rating"
   ]
  },
  {
   "cell_type": "code",
   "execution_count": null,
   "id": "53f45f55-07b3-43b4-a4d5-bec3988ed010",
   "metadata": {},
   "outputs": [],
   "source": [
    "df = df0"
   ]
  },
  {
   "cell_type": "code",
   "execution_count": null,
   "id": "07407881-9cd6-4825-8dee-ba461d0e4b97",
   "metadata": {},
   "outputs": [],
   "source": [
    "answer = 0\n",
    "for c in df:\n",
    "    sum_gt_half_size = df[c].astype(int).sum() * 2 >= df.shape[0]\n",
    "    # sum_gt_half_size -> 0 is less common or they are equal\n",
    "    # !sum_gt_half_size -> 1 is less common \n",
    "    \n",
    "    if sum_gt_half_size:\n",
    "        df2 = df[df[c] == '0']\n",
    "    else:\n",
    "        df2 = df[df[c] == '1']\n",
    "    \n",
    "    if df2.shape[0] == 1:\n",
    "        answer = df2.iloc[0]\n",
    "        break\n",
    "    elif df2.shape[0] == 0:\n",
    "        answer = df.iloc[0]\n",
    "        break\n",
    "    else:\n",
    "        df = df2"
   ]
  },
  {
   "cell_type": "code",
   "execution_count": null,
   "id": "01013219-4e84-4fcf-8bc4-3bdfc908b96f",
   "metadata": {},
   "outputs": [],
   "source": [
    "''.join(answer)"
   ]
  },
  {
   "cell_type": "code",
   "execution_count": null,
   "id": "5074d42e-afec-448e-8476-eaab0b55321e",
   "metadata": {},
   "outputs": [],
   "source": [
    "co2_scrubber_rating = int(''.join(answer), 2)\n",
    "co2_scrubber_rating"
   ]
  },
  {
   "cell_type": "code",
   "execution_count": null,
   "id": "6ddaf76a-4d5a-40cd-bb88-0977832e76c2",
   "metadata": {},
   "outputs": [],
   "source": [
    "oxygen_generator_rating * co2_scrubber_rating"
   ]
  },
  {
   "cell_type": "code",
   "execution_count": null,
   "id": "21c55bdd-0a2f-481a-9373-428fb67b2875",
   "metadata": {},
   "outputs": [],
   "source": []
  }
 ],
 "metadata": {
  "kernelspec": {
   "display_name": "Python 3 (ipykernel)",
   "language": "python",
   "name": "python3"
  },
  "language_info": {
   "codemirror_mode": {
    "name": "ipython",
    "version": 3
   },
   "file_extension": ".py",
   "mimetype": "text/x-python",
   "name": "python",
   "nbconvert_exporter": "python",
   "pygments_lexer": "ipython3",
   "version": "3.8.12"
  }
 },
 "nbformat": 4,
 "nbformat_minor": 5
}
