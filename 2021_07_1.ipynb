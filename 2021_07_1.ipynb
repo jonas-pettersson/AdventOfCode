{
 "cells": [
  {
   "cell_type": "code",
   "execution_count": 1,
   "id": "f7f1327e-5325-48e4-af32-e8547d8c398e",
   "metadata": {
    "tags": []
   },
   "outputs": [],
   "source": [
    "import pandas as pd\n",
    "import numpy as np\n",
    "from pathlib import Path"
   ]
  },
  {
   "cell_type": "code",
   "execution_count": 2,
   "id": "7c647e19-a57f-4b53-ad5c-41f29a2909d5",
   "metadata": {},
   "outputs": [],
   "source": [
    "BASE_DIR = Path('C:/Users/atw10wp4/Jupyter/AdventOfCode/Data')"
   ]
  },
  {
   "cell_type": "code",
   "execution_count": 16,
   "id": "e296c2a0-b5ac-4312-a79c-27c75def68bf",
   "metadata": {},
   "outputs": [],
   "source": [
    "fileName = '2021_07_input_test.txt'\n",
    "fileNameFullPath = BASE_DIR / fileName"
   ]
  },
  {
   "cell_type": "code",
   "execution_count": 17,
   "id": "dff960d3-8f66-472a-b655-762da081556f",
   "metadata": {},
   "outputs": [],
   "source": [
    "df = pd.read_csv(fileNameFullPath, header=None, sep=',', )"
   ]
  },
  {
   "cell_type": "code",
   "execution_count": 18,
   "id": "04db8cf8-0c66-4dc8-8364-2f949412c2b1",
   "metadata": {},
   "outputs": [],
   "source": [
    "crab_list = df.iloc[0]"
   ]
  },
  {
   "cell_type": "code",
   "execution_count": 19,
   "id": "7ea67de8-8b8c-40de-9e11-b405310e2e95",
   "metadata": {},
   "outputs": [
    {
     "name": "stdout",
     "output_type": "stream",
     "text": [
      "median:  350.0\n"
     ]
    }
   ],
   "source": [
    "dist = 0\n",
    "pos = crab_list.median()\n",
    "print('median: ', pos)\n",
    "for i in crab_list:\n",
    "    dist += abs(pos - i)"
   ]
  },
  {
   "cell_type": "code",
   "execution_count": 20,
   "id": "76af761d-94f1-422d-b34e-9be702d0ee3b",
   "metadata": {},
   "outputs": [
    {
     "data": {
      "text/plain": [
       "345035.0"
      ]
     },
     "execution_count": 20,
     "metadata": {},
     "output_type": "execute_result"
    }
   ],
   "source": [
    "dist"
   ]
  }
 ],
 "metadata": {
  "kernelspec": {
   "display_name": "Python 3 (ipykernel)",
   "language": "python",
   "name": "python3"
  },
  "language_info": {
   "codemirror_mode": {
    "name": "ipython",
    "version": 3
   },
   "file_extension": ".py",
   "mimetype": "text/x-python",
   "name": "python",
   "nbconvert_exporter": "python",
   "pygments_lexer": "ipython3",
   "version": "3.8.12"
  }
 },
 "nbformat": 4,
 "nbformat_minor": 5
}
