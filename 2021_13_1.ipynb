{
 "cells": [
  {
   "cell_type": "code",
   "execution_count": 1,
   "id": "f7f1327e-5325-48e4-af32-e8547d8c398e",
   "metadata": {
    "tags": []
   },
   "outputs": [],
   "source": [
    "import pandas as pd\n",
    "import numpy as np\n",
    "from pathlib import Path"
   ]
  },
  {
   "cell_type": "code",
   "execution_count": 2,
   "id": "7c647e19-a57f-4b53-ad5c-41f29a2909d5",
   "metadata": {},
   "outputs": [],
   "source": [
    "BASE_DIR = Path('C:/Users/atw10wp4/Jupyter/AdventOfCode/Data')"
   ]
  },
  {
   "cell_type": "code",
   "execution_count": 3,
   "id": "e296c2a0-b5ac-4312-a79c-27c75def68bf",
   "metadata": {},
   "outputs": [],
   "source": [
    "fileName = '2021_13_input.txt'\n",
    "fileNameFullPath = BASE_DIR / fileName"
   ]
  },
  {
   "cell_type": "code",
   "execution_count": 4,
   "id": "dff960d3-8f66-472a-b655-762da081556f",
   "metadata": {},
   "outputs": [],
   "source": [
    "df = pd.read_csv(fileNameFullPath, header=None, sep=',', names=['x', 'y'])"
   ]
  },
  {
   "cell_type": "code",
   "execution_count": 5,
   "id": "6fdd5d0c-2782-4cac-940a-a9c5ea707e9d",
   "metadata": {},
   "outputs": [],
   "source": [
    "foldings_df = df[df.y.isna()]['x'].str.split('=', expand=True)\n",
    "foldings_df[0] = foldings_df[0].str.split(' ', expand=True).iloc[:,-1:]\n",
    "foldings_df.columns = ['axis', 'fold']\n",
    "foldings_df = foldings_df.reset_index(drop=True)\n",
    "foldings_df['fold'] = foldings_df['fold'].astype(int)"
   ]
  },
  {
   "cell_type": "code",
   "execution_count": 6,
   "id": "70170fb1-a866-4090-873f-87800aa0718c",
   "metadata": {},
   "outputs": [],
   "source": [
    "dots_df = df[df.y.notna()]\n",
    "dots_df = dots_df.astype(int)"
   ]
  },
  {
   "cell_type": "code",
   "execution_count": 7,
   "id": "418ca096-5a2f-4b50-9e68-9c204e082121",
   "metadata": {},
   "outputs": [],
   "source": [
    "dots_df['vals'] = np.full(dots_df.shape[0], 1)"
   ]
  },
  {
   "cell_type": "code",
   "execution_count": 8,
   "id": "e234a9bb-0457-4e00-bb0c-6d136dfd52de",
   "metadata": {},
   "outputs": [],
   "source": [
    "xy_matrix = dots_df.pivot(index='y', columns='x', values='vals')\n",
    "xy_matrix[xy_matrix.isna()] = 0\n",
    "xy_matrix = xy_matrix.astype(int)\n",
    "xy_matrix = xy_matrix.reindex(range(0, dots_df.y.max()+1), columns=range(0, dots_df.x.max()+1), fill_value=0)"
   ]
  },
  {
   "cell_type": "code",
   "execution_count": 9,
   "id": "07d16fb4-d48d-42f3-aaae-4ddb16a119de",
   "metadata": {},
   "outputs": [],
   "source": [
    "left_fold = xy_matrix.iloc[:,:foldings_df['fold'][0]]"
   ]
  },
  {
   "cell_type": "code",
   "execution_count": 10,
   "id": "941187dc-8b8b-49d7-b833-e135bfefb2bf",
   "metadata": {},
   "outputs": [],
   "source": [
    "right_fold = xy_matrix.iloc[:,foldings_df['fold'][0]+1:]\n",
    "right_fold = right_fold[right_fold.columns[::-1]]\n",
    "right_fold.columns = left_fold.columns"
   ]
  },
  {
   "cell_type": "code",
   "execution_count": 11,
   "id": "6bb78c8e-7f97-436b-9d9e-13c485205f44",
   "metadata": {},
   "outputs": [
    {
     "data": {
      "text/plain": [
       "942"
      ]
     },
     "execution_count": 11,
     "metadata": {},
     "output_type": "execute_result"
    }
   ],
   "source": [
    "((left_fold + right_fold) > 0).values.sum()"
   ]
  }
 ],
 "metadata": {
  "kernelspec": {
   "display_name": "Python 3 (ipykernel)",
   "language": "python",
   "name": "python3"
  },
  "language_info": {
   "codemirror_mode": {
    "name": "ipython",
    "version": 3
   },
   "file_extension": ".py",
   "mimetype": "text/x-python",
   "name": "python",
   "nbconvert_exporter": "python",
   "pygments_lexer": "ipython3",
   "version": "3.8.12"
  }
 },
 "nbformat": 4,
 "nbformat_minor": 5
}
