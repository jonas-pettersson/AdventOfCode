{
 "cells": [
  {
   "cell_type": "code",
   "execution_count": 1,
   "id": "f7f1327e-5325-48e4-af32-e8547d8c398e",
   "metadata": {},
   "outputs": [],
   "source": [
    "import pandas as pd\n",
    "import numpy as np\n",
    "from pathlib import Path"
   ]
  },
  {
   "cell_type": "code",
   "execution_count": 2,
   "id": "7c647e19-a57f-4b53-ad5c-41f29a2909d5",
   "metadata": {},
   "outputs": [],
   "source": [
    "BASE_DIR = Path('C:/Users/atw10wp4/Jupyter/AdventOfCode/Data')"
   ]
  },
  {
   "cell_type": "code",
   "execution_count": 3,
   "id": "e296c2a0-b5ac-4312-a79c-27c75def68bf",
   "metadata": {},
   "outputs": [],
   "source": [
    "fileName = '2021_05_input.txt'\n",
    "fileNameFullPath = BASE_DIR / fileName"
   ]
  },
  {
   "cell_type": "code",
   "execution_count": 4,
   "id": "dff960d3-8f66-472a-b655-762da081556f",
   "metadata": {},
   "outputs": [],
   "source": [
    "df = pd.read_csv(fileNameFullPath, header=None, sep=' -> |,', \n",
    "                 names=['x1', 'y1', 'x2', 'y2'], engine='python')"
   ]
  },
  {
   "cell_type": "code",
   "execution_count": 5,
   "id": "a055ae04-68b2-4ff6-8d25-adf9e8f317b4",
   "metadata": {
    "tags": []
   },
   "outputs": [],
   "source": [
    "sea_bed_size = df.values.max() + 1\n",
    "sea_bed = pd.DataFrame(np.zeros([sea_bed_size, sea_bed_size]))"
   ]
  },
  {
   "cell_type": "code",
   "execution_count": 6,
   "id": "bc7b9df8-edf4-4bf1-bc49-92b5b5460563",
   "metadata": {},
   "outputs": [],
   "source": [
    "for i, line in df.iterrows():\n",
    "   \n",
    "    if line['x1'] <= line['x2']:\n",
    "        x_range = range(line['x1'], line['x2']+1)\n",
    "    else:\n",
    "        x_range = range(line['x2'], line['x1']+1)\n",
    "    if line['y1'] <= line['y2']:\n",
    "        y_range = range(line['y1'], line['y2']+1)\n",
    "    else:\n",
    "        y_range = range(line['y2'], line['y1']+1)\n",
    "\n",
    "    if len(x_range) > 1 and len(y_range) == 1:\n",
    "        for x in x_range:\n",
    "            sea_bed[x][line['y1']] += 1\n",
    "    elif len(y_range) > 1 and len(x_range) == 1:\n",
    "        for y in y_range:\n",
    "            sea_bed[line['x1']][y] += 1"
   ]
  },
  {
   "cell_type": "code",
   "execution_count": 7,
   "id": "8808ba6b-70ec-4af1-ab95-c20059ead7da",
   "metadata": {},
   "outputs": [
    {
     "data": {
      "text/plain": [
       "5145"
      ]
     },
     "execution_count": 7,
     "metadata": {},
     "output_type": "execute_result"
    }
   ],
   "source": [
    "(sea_bed >= 2).values.sum()"
   ]
  },
  {
   "cell_type": "code",
   "execution_count": null,
   "id": "6f1ea73d-4dde-4aef-be8c-6d043a8481bf",
   "metadata": {},
   "outputs": [],
   "source": []
  }
 ],
 "metadata": {
  "kernelspec": {
   "display_name": "Python 3 (ipykernel)",
   "language": "python",
   "name": "python3"
  },
  "language_info": {
   "codemirror_mode": {
    "name": "ipython",
    "version": 3
   },
   "file_extension": ".py",
   "mimetype": "text/x-python",
   "name": "python",
   "nbconvert_exporter": "python",
   "pygments_lexer": "ipython3",
   "version": "3.8.12"
  }
 },
 "nbformat": 4,
 "nbformat_minor": 5
}
