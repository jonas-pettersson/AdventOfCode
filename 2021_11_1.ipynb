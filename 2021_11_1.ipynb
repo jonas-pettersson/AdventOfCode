{
 "cells": [
  {
   "cell_type": "code",
   "execution_count": 1,
   "id": "f7f1327e-5325-48e4-af32-e8547d8c398e",
   "metadata": {
    "tags": []
   },
   "outputs": [],
   "source": [
    "import pandas as pd\n",
    "import numpy as np\n",
    "from pathlib import Path\n",
    "import math\n",
    "from scipy.ndimage.filters import minimum_filter\n",
    "import matplotlib.pyplot as plt\n",
    "from statistics import median\n",
    "import itertools"
   ]
  },
  {
   "cell_type": "code",
   "execution_count": 2,
   "id": "7c647e19-a57f-4b53-ad5c-41f29a2909d5",
   "metadata": {},
   "outputs": [],
   "source": [
    "BASE_DIR = Path('C:/Users/atw10wp4/Jupyter/AdventOfCode/Data')"
   ]
  },
  {
   "cell_type": "code",
   "execution_count": 3,
   "id": "e296c2a0-b5ac-4312-a79c-27c75def68bf",
   "metadata": {},
   "outputs": [],
   "source": [
    "fileName = '2021_11_input.txt'\n",
    "fileNameFullPath = BASE_DIR / fileName"
   ]
  },
  {
   "cell_type": "code",
   "execution_count": 4,
   "id": "dff960d3-8f66-472a-b655-762da081556f",
   "metadata": {},
   "outputs": [],
   "source": [
    "df = pd.read_csv(fileNameFullPath, header=None, dtype='str' )"
   ]
  },
  {
   "cell_type": "code",
   "execution_count": 5,
   "id": "5aa97cfc-b4ff-4a03-a0ce-0b6e6349196a",
   "metadata": {},
   "outputs": [],
   "source": [
    "df = df[0].str.split(pat='', expand=True)\n",
    "df = df[df.columns[1:-1]]\n",
    "df.columns = range(df.shape[0])\n",
    "df = df.reset_index(drop=True)\n",
    "df = df.astype(int)"
   ]
  },
  {
   "cell_type": "code",
   "execution_count": 6,
   "id": "aee1be7e-deb6-4a15-85b9-e5c6df0069ad",
   "metadata": {},
   "outputs": [],
   "source": [
    "def get_zipped_coordinates(df):\n",
    "    return zip(list(np.where(df)[0]), \n",
    "               list(np.where(df)[1]))"
   ]
  },
  {
   "cell_type": "code",
   "execution_count": 7,
   "id": "a542423f-c090-4167-90f5-952c9b1244f0",
   "metadata": {},
   "outputs": [],
   "source": [
    "shifts = list(itertools.product([-1, 0, 1], repeat=2))\n",
    "shifts.remove((0, 0))"
   ]
  },
  {
   "cell_type": "code",
   "execution_count": 8,
   "id": "8e36e29d-1823-4127-b479-3f72f3868a75",
   "metadata": {},
   "outputs": [],
   "source": [
    "steps = 100\n",
    "flashes = 0"
   ]
  },
  {
   "cell_type": "code",
   "execution_count": 9,
   "id": "76dbefd5-c9a5-4944-a3dd-ab83ca24e4ad",
   "metadata": {},
   "outputs": [],
   "source": [
    "for i in range(steps):\n",
    "    df += 1\n",
    "    while (df > 9).values.sum() > 0:\n",
    "        for r, c in get_zipped_coordinates(df > 9):\n",
    "            df[c][r] = 0\n",
    "            flashes += 1\n",
    "            for r_shift, c_shift in shifts:\n",
    "                n_r = r + r_shift # n_r = neighboring r\n",
    "                n_c = c + c_shift # n_c = neighboring c\n",
    "                if n_r in df.index and n_c in df.columns:\n",
    "                    if df[n_c][n_r] <= 9 and df[n_c][n_r] > 0:\n",
    "                        df[n_c][n_r] += 1"
   ]
  },
  {
   "cell_type": "code",
   "execution_count": 10,
   "id": "757c8bcd-37d1-4ec3-9443-d8707563a17c",
   "metadata": {},
   "outputs": [
    {
     "data": {
      "text/plain": [
       "1757"
      ]
     },
     "execution_count": 10,
     "metadata": {},
     "output_type": "execute_result"
    }
   ],
   "source": [
    "flashes"
   ]
  },
  {
   "cell_type": "code",
   "execution_count": null,
   "id": "88ffd581-c7f7-45ed-9ad8-99faaca624e1",
   "metadata": {},
   "outputs": [],
   "source": []
  }
 ],
 "metadata": {
  "kernelspec": {
   "display_name": "Python 3 (ipykernel)",
   "language": "python",
   "name": "python3"
  },
  "language_info": {
   "codemirror_mode": {
    "name": "ipython",
    "version": 3
   },
   "file_extension": ".py",
   "mimetype": "text/x-python",
   "name": "python",
   "nbconvert_exporter": "python",
   "pygments_lexer": "ipython3",
   "version": "3.8.12"
  }
 },
 "nbformat": 4,
 "nbformat_minor": 5
}
