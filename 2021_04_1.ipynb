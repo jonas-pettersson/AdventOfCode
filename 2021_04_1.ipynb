{
 "cells": [
  {
   "cell_type": "code",
   "execution_count": 1,
   "id": "f7f1327e-5325-48e4-af32-e8547d8c398e",
   "metadata": {},
   "outputs": [],
   "source": [
    "import pandas as pd\n",
    "import numpy as np\n",
    "from pathlib import Path"
   ]
  },
  {
   "cell_type": "code",
   "execution_count": 2,
   "id": "7c647e19-a57f-4b53-ad5c-41f29a2909d5",
   "metadata": {},
   "outputs": [],
   "source": [
    "BASE_DIR = Path('C:/Users/atw10wp4/Jupyter/AdventOfCode/Data')"
   ]
  },
  {
   "cell_type": "code",
   "execution_count": 3,
   "id": "e296c2a0-b5ac-4312-a79c-27c75def68bf",
   "metadata": {},
   "outputs": [],
   "source": [
    "fileName = '2021_04_input.txt'\n",
    "fileNameFullPath = BASE_DIR / fileName"
   ]
  },
  {
   "cell_type": "code",
   "execution_count": 4,
   "id": "dff960d3-8f66-472a-b655-762da081556f",
   "metadata": {},
   "outputs": [],
   "source": [
    "df = pd.read_csv(fileNameFullPath, header=None, names=['Boards'], skiprows=2)\n",
    "draw_list = pd.read_csv(fileNameFullPath, header=None, nrows=1).iloc[0]"
   ]
  },
  {
   "cell_type": "code",
   "execution_count": 5,
   "id": "39dbfa21-4b0d-49bc-bc92-647ea3fcd80b",
   "metadata": {},
   "outputs": [],
   "source": [
    "df = df['Boards'].str.extract('(.{3}|.{2})' * 5)"
   ]
  },
  {
   "cell_type": "code",
   "execution_count": 6,
   "id": "04caf936-dce1-477a-a6b2-dfff165979a3",
   "metadata": {},
   "outputs": [],
   "source": [
    "df = df.apply(pd.to_numeric, errors='ignore')"
   ]
  },
  {
   "cell_type": "code",
   "execution_count": 7,
   "id": "87e4bf2e-0084-458a-9a0e-bba96cd59478",
   "metadata": {},
   "outputs": [
    {
     "data": {
      "text/html": [
       "<div>\n",
       "<style scoped>\n",
       "    .dataframe tbody tr th:only-of-type {\n",
       "        vertical-align: middle;\n",
       "    }\n",
       "\n",
       "    .dataframe tbody tr th {\n",
       "        vertical-align: top;\n",
       "    }\n",
       "\n",
       "    .dataframe thead th {\n",
       "        text-align: right;\n",
       "    }\n",
       "</style>\n",
       "<table border=\"1\" class=\"dataframe\">\n",
       "  <thead>\n",
       "    <tr style=\"text-align: right;\">\n",
       "      <th></th>\n",
       "      <th>0</th>\n",
       "      <th>1</th>\n",
       "      <th>2</th>\n",
       "      <th>3</th>\n",
       "      <th>4</th>\n",
       "    </tr>\n",
       "  </thead>\n",
       "  <tbody>\n",
       "    <tr>\n",
       "      <th>0</th>\n",
       "      <td>92</td>\n",
       "      <td>3</td>\n",
       "      <td>88</td>\n",
       "      <td>13</td>\n",
       "      <td>50</td>\n",
       "    </tr>\n",
       "    <tr>\n",
       "      <th>1</th>\n",
       "      <td>90</td>\n",
       "      <td>70</td>\n",
       "      <td>24</td>\n",
       "      <td>28</td>\n",
       "      <td>52</td>\n",
       "    </tr>\n",
       "    <tr>\n",
       "      <th>2</th>\n",
       "      <td>15</td>\n",
       "      <td>98</td>\n",
       "      <td>10</td>\n",
       "      <td>26</td>\n",
       "      <td>5</td>\n",
       "    </tr>\n",
       "    <tr>\n",
       "      <th>3</th>\n",
       "      <td>84</td>\n",
       "      <td>34</td>\n",
       "      <td>37</td>\n",
       "      <td>73</td>\n",
       "      <td>87</td>\n",
       "    </tr>\n",
       "    <tr>\n",
       "      <th>4</th>\n",
       "      <td>25</td>\n",
       "      <td>36</td>\n",
       "      <td>74</td>\n",
       "      <td>33</td>\n",
       "      <td>63</td>\n",
       "    </tr>\n",
       "  </tbody>\n",
       "</table>\n",
       "</div>"
      ],
      "text/plain": [
       "    0   1   2   3   4\n",
       "0  92   3  88  13  50\n",
       "1  90  70  24  28  52\n",
       "2  15  98  10  26   5\n",
       "3  84  34  37  73  87\n",
       "4  25  36  74  33  63"
      ]
     },
     "execution_count": 7,
     "metadata": {},
     "output_type": "execute_result"
    }
   ],
   "source": [
    "boards = np.split(df, df.shape[0]/5)\n",
    "boards[0]"
   ]
  },
  {
   "cell_type": "code",
   "execution_count": 8,
   "id": "90cfe64d-7e5b-488a-9ec2-d4b973768e21",
   "metadata": {
    "tags": []
   },
   "outputs": [],
   "source": [
    "def is_bingo(bingo):\n",
    "    i_have_bingo = False\n",
    "    for i, col in bingo.items():\n",
    "        if col.all():\n",
    "            i_have_bingo = True\n",
    "            break\n",
    "    if not i_have_bingo:\n",
    "        for i, row in bingo.iterrows():\n",
    "            if row.all():\n",
    "                i_have_bingo = True\n",
    "                break\n",
    "    return i_have_bingo"
   ]
  },
  {
   "cell_type": "code",
   "execution_count": 9,
   "id": "a055ae04-68b2-4ff6-8d25-adf9e8f317b4",
   "metadata": {},
   "outputs": [
    {
     "data": {
      "text/html": [
       "<div>\n",
       "<style scoped>\n",
       "    .dataframe tbody tr th:only-of-type {\n",
       "        vertical-align: middle;\n",
       "    }\n",
       "\n",
       "    .dataframe tbody tr th {\n",
       "        vertical-align: top;\n",
       "    }\n",
       "\n",
       "    .dataframe thead th {\n",
       "        text-align: right;\n",
       "    }\n",
       "</style>\n",
       "<table border=\"1\" class=\"dataframe\">\n",
       "  <thead>\n",
       "    <tr style=\"text-align: right;\">\n",
       "      <th></th>\n",
       "      <th>0</th>\n",
       "      <th>1</th>\n",
       "      <th>2</th>\n",
       "      <th>3</th>\n",
       "      <th>4</th>\n",
       "    </tr>\n",
       "  </thead>\n",
       "  <tbody>\n",
       "    <tr>\n",
       "      <th>0</th>\n",
       "      <td>False</td>\n",
       "      <td>False</td>\n",
       "      <td>False</td>\n",
       "      <td>False</td>\n",
       "      <td>False</td>\n",
       "    </tr>\n",
       "    <tr>\n",
       "      <th>1</th>\n",
       "      <td>False</td>\n",
       "      <td>False</td>\n",
       "      <td>False</td>\n",
       "      <td>False</td>\n",
       "      <td>False</td>\n",
       "    </tr>\n",
       "    <tr>\n",
       "      <th>2</th>\n",
       "      <td>False</td>\n",
       "      <td>False</td>\n",
       "      <td>False</td>\n",
       "      <td>False</td>\n",
       "      <td>False</td>\n",
       "    </tr>\n",
       "    <tr>\n",
       "      <th>3</th>\n",
       "      <td>False</td>\n",
       "      <td>False</td>\n",
       "      <td>False</td>\n",
       "      <td>False</td>\n",
       "      <td>False</td>\n",
       "    </tr>\n",
       "    <tr>\n",
       "      <th>4</th>\n",
       "      <td>False</td>\n",
       "      <td>False</td>\n",
       "      <td>False</td>\n",
       "      <td>False</td>\n",
       "      <td>False</td>\n",
       "    </tr>\n",
       "  </tbody>\n",
       "</table>\n",
       "</div>"
      ],
      "text/plain": [
       "       0      1      2      3      4\n",
       "0  False  False  False  False  False\n",
       "1  False  False  False  False  False\n",
       "2  False  False  False  False  False\n",
       "3  False  False  False  False  False\n",
       "4  False  False  False  False  False"
      ]
     },
     "execution_count": 9,
     "metadata": {},
     "output_type": "execute_result"
    }
   ],
   "source": [
    "df_bingo = pd.DataFrame(np.full(df.shape, False))\n",
    "df_bingo.index = df.index\n",
    "df_bingo.columns = df.columns\n",
    "bingos = np.split(df_bingo, df_bingo.shape[0]/5)\n",
    "bingos[0]"
   ]
  },
  {
   "cell_type": "code",
   "execution_count": 10,
   "id": "872d4926-a41b-4fd0-ac13-b367c9b4f570",
   "metadata": {},
   "outputs": [],
   "source": [
    "winning_board = None\n",
    "winning_bingo = None\n",
    "i_have_bingo = False\n",
    "last_number_drawn = -1\n",
    "for i in draw_list:\n",
    "    if not i_have_bingo:\n",
    "        for board, bingo in zip(boards, bingos):\n",
    "            bingo += (board == i)\n",
    "            if is_bingo(bingo):\n",
    "                i_have_bingo = True\n",
    "                winning_board = board\n",
    "                winning_bingo = bingo\n",
    "                last_number_drawn = i\n",
    "                break"
   ]
  },
  {
   "cell_type": "code",
   "execution_count": 11,
   "id": "5480b239-3d52-4b1e-9455-be15070e1c3f",
   "metadata": {},
   "outputs": [
    {
     "data": {
      "text/plain": [
       "(      0   1   2   3   4\n",
       " 245  15  56  39  57  40\n",
       " 246  67  59  26  30  90\n",
       " 247  84   2  41  25   7\n",
       " 248  96  23  79  99  85\n",
       " 249  13  10  86  51  53,\n",
       "          0      1      2      3      4\n",
       " 245   True  False   True  False  False\n",
       " 246   True   True  False  False  False\n",
       " 247   True   True   True   True   True\n",
       " 248  False   True  False  False  False\n",
       " 249  False  False  False  False  False)"
      ]
     },
     "execution_count": 11,
     "metadata": {},
     "output_type": "execute_result"
    }
   ],
   "source": [
    "winning_board, winning_bingo"
   ]
  },
  {
   "cell_type": "code",
   "execution_count": 12,
   "id": "875c45c0-938a-4169-ac16-985f30cdda50",
   "metadata": {},
   "outputs": [
    {
     "data": {
      "text/plain": [
       "(871.0, 41)"
      ]
     },
     "execution_count": 12,
     "metadata": {},
     "output_type": "execute_result"
    }
   ],
   "source": [
    "sum_of_unmarked_numbers = winning_board[~winning_bingo].sum().sum()\n",
    "sum_of_unmarked_numbers, last_number_drawn"
   ]
  },
  {
   "cell_type": "code",
   "execution_count": 13,
   "id": "31b740e3-8ade-4468-892e-0e3e338a0aad",
   "metadata": {},
   "outputs": [
    {
     "data": {
      "text/plain": [
       "35711.0"
      ]
     },
     "execution_count": 13,
     "metadata": {},
     "output_type": "execute_result"
    }
   ],
   "source": [
    "sum_of_unmarked_numbers * last_number_drawn"
   ]
  },
  {
   "cell_type": "code",
   "execution_count": null,
   "id": "af0c369e-d61c-4075-8153-8c6805ab832a",
   "metadata": {},
   "outputs": [],
   "source": []
  }
 ],
 "metadata": {
  "kernelspec": {
   "display_name": "Python 3 (ipykernel)",
   "language": "python",
   "name": "python3"
  },
  "language_info": {
   "codemirror_mode": {
    "name": "ipython",
    "version": 3
   },
   "file_extension": ".py",
   "mimetype": "text/x-python",
   "name": "python",
   "nbconvert_exporter": "python",
   "pygments_lexer": "ipython3",
   "version": "3.8.12"
  }
 },
 "nbformat": 4,
 "nbformat_minor": 5
}
