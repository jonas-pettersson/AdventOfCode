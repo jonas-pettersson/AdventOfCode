{
 "cells": [
  {
   "cell_type": "code",
   "execution_count": 1,
   "id": "f7f1327e-5325-48e4-af32-e8547d8c398e",
   "metadata": {
    "tags": []
   },
   "outputs": [],
   "source": [
    "import pandas as pd\n",
    "import numpy as np\n",
    "from pathlib import Path\n",
    "import math"
   ]
  },
  {
   "cell_type": "code",
   "execution_count": 2,
   "id": "7c647e19-a57f-4b53-ad5c-41f29a2909d5",
   "metadata": {},
   "outputs": [],
   "source": [
    "BASE_DIR = Path('C:/Users/atw10wp4/Jupyter/AdventOfCode/Data')"
   ]
  },
  {
   "cell_type": "code",
   "execution_count": 3,
   "id": "e296c2a0-b5ac-4312-a79c-27c75def68bf",
   "metadata": {},
   "outputs": [],
   "source": [
    "fileName = '2021_08_input.txt'\n",
    "fileNameFullPath = BASE_DIR / fileName"
   ]
  },
  {
   "cell_type": "code",
   "execution_count": 4,
   "id": "dff960d3-8f66-472a-b655-762da081556f",
   "metadata": {},
   "outputs": [],
   "source": [
    "df = pd.read_csv(fileNameFullPath, header=None, sep=' ', )"
   ]
  },
  {
   "cell_type": "code",
   "execution_count": 5,
   "id": "7b0d9a76-9ffd-4c41-8687-07c276b52245",
   "metadata": {},
   "outputs": [],
   "source": [
    "def regex_from_string(letterstring):\n",
    "    base = r'^{}'\n",
    "    expr = '(?=.*{})'\n",
    "    words = list(letterstring)\n",
    "    return base.format(''.join(expr.format(w) for w in words))"
   ]
  },
  {
   "cell_type": "code",
   "execution_count": 6,
   "id": "f7bfba3d-24bf-452a-967d-7af177d5048f",
   "metadata": {},
   "outputs": [],
   "source": [
    "def generate_signal_array(signal_patterns):\n",
    "    signal_array = np.full(10, -1)\n",
    "    \n",
    "    # for decr of encoding refer to https://en.wikipedia.org/wiki/Seven-segment_display\n",
    "    pgfedcba = pd.Series(np.full(8, ''), index=['p','g','f','e','d','c','b','a'])\n",
    "    \n",
    "    # 1 has 2 segments\n",
    "    index_of_1 = int(signal_patterns[signal_patterns.str.len() == 2].index.values)\n",
    "    signal_array[1] = index_of_1\n",
    "    \n",
    "    # 4 has 4 segments\n",
    "    index_of_4 = int(signal_patterns[signal_patterns.str.len() == 4].index.values)\n",
    "    signal_array[4] = index_of_4\n",
    "    \n",
    "    # 7 has 3 segments\n",
    "    index_of_7 = int(signal_patterns[signal_patterns.str.len() == 3].index.values) \n",
    "    signal_array[7] = index_of_7\n",
    "    \n",
    "    # 8 has 7 segments\n",
    "    index_of_8 = int(signal_patterns[signal_patterns.str.len() == 7].index.values)\n",
    "    signal_array[8] = index_of_8\n",
    "    \n",
    "    # 7 - 1 = a\n",
    "    pgfedcba['a'] = ''.join(set(signal_patterns[signal_array[7]]) - set(signal_patterns[signal_array[1]]))\n",
    "    \n",
    "    # 8 - 7 = gfed\n",
    "    gfed = ''.join(set(signal_patterns[signal_array[8]]) - set(signal_patterns[signal_array[7]]))\n",
    "    \n",
    "    # size(6) AND all(gfed) -> 6  // else 0 or 9\n",
    "    rows_of_size_6 = signal_patterns[signal_patterns.str.len() == 6]\n",
    "    index_of_6 = int(rows_of_size_6[rows_of_size_6.str.contains(regex_from_string(gfed))].index.values)\n",
    "    signal_array[6] = index_of_6\n",
    "    \n",
    "    # 8 - 6 = b\n",
    "    pgfedcba['b'] = ''.join(set(signal_patterns[signal_array[8]]) - set(signal_patterns[signal_array[6]]))\n",
    "    \n",
    "    # size(5) AND !b -> 5 // else 2 OR 3\n",
    "    rows_of_size_5 = signal_patterns[signal_patterns.str.len() == 5]\n",
    "    index_of_5 = int(rows_of_size_5[~rows_of_size_5.str.contains(pgfedcba['b'])].index.values)\n",
    "    signal_array[5] = index_of_5\n",
    "    \n",
    "    # 5 + b = 9\n",
    "    letters_of_9 = ''.join(set(signal_patterns[signal_array[5]]) | set(pgfedcba['b']))\n",
    "    index_of_9 = int(rows_of_size_6[rows_of_size_6.str.contains(regex_from_string(letters_of_9))].index.values)\n",
    "    signal_array[9] = index_of_9\n",
    "    \n",
    "    # size(6) AND !9 AND !6 -> 0\n",
    "    index_of_0 = (set(rows_of_size_6.index) - {signal_array[6]} - {signal_array[9]}).pop()\n",
    "    signal_array[0] = index_of_0\n",
    "    \n",
    "    # 1 - b = c\n",
    "    pgfedcba['c'] = ''.join(set(signal_patterns[signal_array[1]]) - set(pgfedcba['b']))\n",
    "    \n",
    "    # size(5) AND !c -> 2\n",
    "    index_of_2 = int(rows_of_size_5[~rows_of_size_5.str.contains(pgfedcba['c'])].index.values)\n",
    "    signal_array[2] = index_of_2\n",
    "    \n",
    "    # size(5) AND !5 AND !2 -> 3\n",
    "    index_of_3 = (set(rows_of_size_5.index) - {signal_array[5]} - {signal_array[2]}).pop()\n",
    "    signal_array[3] = index_of_3\n",
    "    \n",
    "    return signal_array"
   ]
  },
  {
   "cell_type": "code",
   "execution_count": 7,
   "id": "d22a8dd2-b275-4046-b7d4-25bf318fcd46",
   "metadata": {},
   "outputs": [],
   "source": [
    "def decode_digits(digits):\n",
    "    values = []\n",
    "    for digit in digits:\n",
    "        digit_size = len(digit)\n",
    "        rows_of_size_x = signals[signals.str.len() == digit_size]\n",
    "        row_index = int(rows_of_size_x[rows_of_size_x.str.contains(regex_from_string(digit))].index.values)\n",
    "        value = np.where(signal_array == row_index)[0][0]\n",
    "        values.append(str(value))\n",
    "    return values"
   ]
  },
  {
   "cell_type": "code",
   "execution_count": 8,
   "id": "ca5bc87c-e76f-480a-b081-25b6b55b2384",
   "metadata": {},
   "outputs": [
    {
     "data": {
      "text/plain": [
       "1028926"
      ]
     },
     "execution_count": 8,
     "metadata": {},
     "output_type": "execute_result"
    }
   ],
   "source": [
    "sum_of_values = 0\n",
    "for i, line in df.iterrows():\n",
    "    signals = line[0:10]\n",
    "    digits = list(line[11:15])\n",
    "    signal_array = generate_signal_array(signals)\n",
    "    sum_of_values += int((''.join(decode_digits(digits))))\n",
    "sum_of_values"
   ]
  },
  {
   "cell_type": "code",
   "execution_count": null,
   "id": "6e43bb49-7081-4263-8333-61272a4d0459",
   "metadata": {},
   "outputs": [],
   "source": []
  }
 ],
 "metadata": {
  "kernelspec": {
   "display_name": "Python 3 (ipykernel)",
   "language": "python",
   "name": "python3"
  },
  "language_info": {
   "codemirror_mode": {
    "name": "ipython",
    "version": 3
   },
   "file_extension": ".py",
   "mimetype": "text/x-python",
   "name": "python",
   "nbconvert_exporter": "python",
   "pygments_lexer": "ipython3",
   "version": "3.8.12"
  }
 },
 "nbformat": 4,
 "nbformat_minor": 5
}
